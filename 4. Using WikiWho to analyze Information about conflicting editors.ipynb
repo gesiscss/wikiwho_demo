{
 "cells": [
  {
   "cell_type": "code",
   "execution_count": null,
   "metadata": {},
   "outputs": [],
   "source": [
    "%load_ext autoreload\n",
    "%autoreload 2\n",
    "\n",
    "%store -r the_page\n",
    "%store -r the_editor\n",
    "%store -r conflicts\n",
    "%store -r editions\n",
    "%store -r all_actions\n",
    "%store -r calculator\n",
    "%store -r editor_inputname\n",
    "\n",
    "editor_editions = editions[editions['editor_id']==the_editor.userid]"
   ]
  },
  {
   "cell_type": "markdown",
   "metadata": {},
   "source": [
    "# Detecting conflicting editors"
   ]
  },
  {
   "cell_type": "code",
   "execution_count": null,
   "metadata": {},
   "outputs": [],
   "source": [
    "conflicting_actions = calculator.df[calculator.conflicts.shift(-1) & (\n",
    "    calculator.df.shift(-1)['editor']==editor_inputname)]\n",
    "\n",
    "from IPython.display import display, Markdown as md\n",
    "display(md('**List of conflicting editors:**'))\n",
    "conf_eds = conflicting_actions['editor'].unique()\n",
    "print('\\n'.join(conf_eds))\n",
    "\n",
    "display(md('**List of ids of conflicting editors:**'))\n",
    "conf_ed_ids = set(int(x.split('|')[0]) for x in conf_eds)\n",
    "print('\\n'.join(str(x) for x in conf_ed_ids))\n",
    "\n",
    "display(md('**List of conflicting revisions:**'))\n",
    "conf_rev = conflicting_actions['rev_id'].unique()\n",
    "print('\\n'.join(str(x) for x in conf_rev))\n"
   ]
  },
  {
   "cell_type": "markdown",
   "metadata": {},
   "source": [
    "# Activity of conflicting editors"
   ]
  },
  {
   "cell_type": "code",
   "execution_count": null,
   "metadata": {},
   "outputs": [],
   "source": [
    "conf_editor_editions = editions[editions['editor_id'].isin(conf_ed_ids)]\n",
    "\n",
    "# Visualization\n",
    "from visualization.editions_listener import DFListener\n",
    "from ipywidgets import interact\n",
    "listener = DFListener(conf_editor_editions)\n",
    "actions = (conf_editor_editions.loc[:,'actions':'actions_stopword_count'].columns.append(\n",
    "    conf_editor_editions.loc[:,'adds':'reins_stopword_count'].columns)).values.tolist()\n",
    "\n",
    "\n",
    "interact(listener.editions_per_month, \n",
    "         begin=conf_editor_editions.year_month,\n",
    "         end=conf_editor_editions.year_month.sort_values(ascending=False),\n",
    "         granularity=['Monthly', 'Yearly'],\n",
    "         black=actions, red=['actions_surv_48h'] + actions + ['None'],\n",
    "         green=['None'] + actions, blue=['None'] + actions)"
   ]
  },
  {
   "cell_type": "markdown",
   "metadata": {},
   "source": [
    "# Conflictive tokens of conflicting authors"
   ]
  },
  {
   "cell_type": "code",
   "execution_count": null,
   "metadata": {},
   "outputs": [],
   "source": [
    "from wordcloud import WordCloud\n",
    "editor_conflicts = conflicts[conflicts['editor'].isin(conf_eds)]\n",
    "bow = editor_conflicts.groupby('token').size()\n",
    "\n",
    "# Create word cloud\n",
    "wc = WordCloud(width=800, height=400,background_color='white',\n",
    "               max_font_size = 50,collocations=False).generate_from_frequencies(bow)\n",
    "\n",
    "\n",
    "# Revisions involved\n",
    "from IPython.display import display, Markdown as md\n",
    "display(md(f\"### The below token conflicts ocurred in a total of {len(editor_conflicts['rev_id'].unique())} revisions:\"))\n",
    "\n",
    "# Plot\n",
    "import matplotlib.pyplot as plt\n",
    "plt.figure(figsize=(14,7))\n",
    "plt.imshow(wc, interpolation=\"bilinear\")\n",
    "plt.axis(\"off\")\n",
    "plt.show()\n"
   ]
  },
  {
   "cell_type": "code",
   "execution_count": null,
   "metadata": {},
   "outputs": [],
   "source": [
    "from IPython.display import HTML\n",
    "HTML('<a href=\"5. Using Wikiwho to explore the history of an editor.ipynb\" target=\"_blank\">Go to next workbook</a>')\n"
   ]
  }
 ],
 "metadata": {
  "kernelspec": {
   "display_name": "Python 3",
   "language": "python",
   "name": "python3"
  },
  "language_info": {
   "codemirror_mode": {
    "name": "ipython",
    "version": 3
   },
   "file_extension": ".py",
   "mimetype": "text/x-python",
   "name": "python",
   "nbconvert_exporter": "python",
   "pygments_lexer": "ipython3",
   "version": "3.6.6"
  }
 },
 "nbformat": 4,
 "nbformat_minor": 2
}
