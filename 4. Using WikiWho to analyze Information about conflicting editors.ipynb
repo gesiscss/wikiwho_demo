{
 "cells": [
  {
   "cell_type": "code",
   "execution_count": null,
   "metadata": {},
   "outputs": [],
   "source": [
    "%load_ext autoreload\n",
    "%autoreload 2\n",
    "\n",
    "%store -r the_page\n",
    "%store -r the_editor\n",
    "%store -r agg_actions\n",
    "%store -r editor_inputname\n",
    "%store -r calculator\n",
    "\n",
    "\n",
    "from IPython.display import display, Markdown as md\n",
    "display(md(\"---\"))\n",
    "display(md(f\"# A. Detecting conflicting editors\"))\n",
    "display(md(f\"***Page: {the_page['title']}***\"))\n",
    "display(md(f\"***Editor: {the_editor['name']}***\"))"
   ]
  },
  {
   "cell_type": "code",
   "execution_count": null,
   "metadata": {},
   "outputs": [],
   "source": [
    "conflicting_actions = calculator.actions[calculator.conflicts.shift(-1) & (\n",
    "    calculator.actions.shift(-1)['editor']==editor_inputname)]\n",
    "\n",
    "from IPython.display import display, Markdown as md\n",
    "display(md('**List of conflicting editors:**'))\n",
    "conflicting_editors = conflicting_actions['editor'].unique()\n",
    "print('\\n'.join(conflicting_editors))\n",
    "\n",
    "display(md('**List of ids of conflicting editors:**'))\n",
    "conflicting_editor_ids = set(int(x.split('|')[0]) for x in conflicting_editors)\n",
    "print('\\n'.join(str(x) for x in conflicting_editor_ids))\n",
    "\n",
    "display(md('**List of conflicting revisions:**'))\n",
    "conflicting_rev = conflicting_actions['rev_id'].unique()\n",
    "print('\\n'.join(str(x) for x in conflicting_rev))\n"
   ]
  },
  {
   "cell_type": "code",
   "execution_count": null,
   "metadata": {},
   "outputs": [],
   "source": [
    "from IPython.display import display, Markdown as md\n",
    "display(md(\"---\"))\n",
    "display(md(f\"# B. Activity of conflicting editors\"))\n",
    "display(md(f\"***Page: {the_page['title']}***\"))\n",
    "display(md(f\"***Editor: {the_editor['name']}***\"))"
   ]
  },
  {
   "cell_type": "code",
   "execution_count": null,
   "metadata": {},
   "outputs": [],
   "source": [
    "conf_editor_agg_actions = agg_actions[agg_actions['editor_id'].isin(conflicting_editor_ids)]\n",
    "\n",
    "# Listener\n",
    "from visualization.actions_listener import ActionsListener\n",
    "listener = ActionsListener(conf_editor_agg_actions)\n",
    "actions = (conf_editor_agg_actions.loc[:,'total':'total_stopword_count'].columns.append(\n",
    "    conf_editor_agg_actions.loc[:,'adds':'reins_stopword_count'].columns)).values.tolist()\n",
    "\n",
    "# Visualization\n",
    "from ipywidgets import interact\n",
    "from utils.notebooks import get_date_slider_from_datetime\n",
    "interact(listener.listen, \n",
    "         _range = get_date_slider_from_datetime(conf_editor_agg_actions['year_month']),\n",
    "         granularity=['Monthly', 'Yearly'],\n",
    "         black=actions, red=['total_surv_48h'] + actions + ['None'],\n",
    "         green=['None'] + actions, blue=['None'] + actions)"
   ]
  },
  {
   "cell_type": "code",
   "execution_count": null,
   "metadata": {},
   "outputs": [],
   "source": [
    "from IPython.display import display, Markdown as md\n",
    "display(md(\"---\"))\n",
    "display(md(f\"# B. Tokens of conflicting editors\"))\n",
    "display(md(f\"***Page: {the_page['title']}***\"))\n",
    "display(md(f\"***Editor: {the_editor['name']}***\"))"
   ]
  },
  {
   "cell_type": "code",
   "execution_count": null,
   "metadata": {},
   "outputs": [],
   "source": [
    "editor_conflicts = calculator.actions[calculator.actions['editor'].isin(conf_eds)]\n",
    "\n",
    "#listener\n",
    "from visualization.wordcloud_listener import WCListener\n",
    "listener = WCListener(editor_conflicts)\n",
    "\n",
    "# visualization\n",
    "from utils.notebooks import get_date_slider_from_datetime\n",
    "from ipywidgets import interact\n",
    "interact(listener.listen, \n",
    "         _range=get_date_slider_from_datetime(editor_conflicts['rev_time']),\n",
    "         action=['Both', 'Just Insertions', 'Just Deletions'],\n",
    "         only_conflict = True)\n"
   ]
  },
  {
   "cell_type": "code",
   "execution_count": null,
   "metadata": {},
   "outputs": [],
   "source": [
    "from IPython.display import HTML\n",
    "from utils.notebooks import get_next_notebook\n",
    "\n",
    "display(HTML(f'<a href=\"{get_next_notebook()}\" target=\"_blank\">Go to next workbook</a>'))\n"
   ]
  }
 ],
 "metadata": {
  "kernelspec": {
   "display_name": "Python 3",
   "language": "python",
   "name": "python3"
  },
  "language_info": {
   "codemirror_mode": {
    "name": "ipython",
    "version": 3
   },
   "file_extension": ".py",
   "mimetype": "text/x-python",
   "name": "python",
   "nbconvert_exporter": "python",
   "pygments_lexer": "ipython3",
   "version": "3.6.6"
  }
 },
 "nbformat": 4,
 "nbformat_minor": 2
}
