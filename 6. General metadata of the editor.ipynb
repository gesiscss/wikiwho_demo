{
 "cells": [
  {
   "cell_type": "code",
   "execution_count": null,
   "metadata": {},
   "outputs": [],
   "source": [
    "%load_ext autoreload\n",
    "%autoreload 2\n",
    "\n",
    "%store -r the_editor\n",
    "\n",
    "from IPython.display import display, Markdown as md\n",
    "display(md(\"---\"))\n",
    "display(md(f\"# A. Basic editor information (from Wikipedia)\"))\n",
    "display(md(f\"***Editor: {the_editor['name']}***\"))"
   ]
  },
  {
   "cell_type": "code",
   "execution_count": null,
   "metadata": {},
   "outputs": [],
   "source": [
    "the_editor.to_frame('value')"
   ]
  },
  {
   "cell_type": "code",
   "execution_count": null,
   "metadata": {},
   "outputs": [],
   "source": [
    "from IPython.display import display, Markdown as md\n",
    "display(md(\"---\"))\n",
    "display(md(f\"# B. Modified pages of an editor (from Xtools)\"))\n",
    "display(md(f\"***Editor: {the_editor['name']}***\"))"
   ]
  },
  {
   "cell_type": "code",
   "execution_count": null,
   "metadata": {},
   "outputs": [],
   "source": [
    "from external.xtools import XtoolsAPI, XtoolsDV\n",
    "xtools_api = XtoolsAPI(project = 'en.wikipedia.org')\n",
    "xtools_dv = XtoolsDV(xtools_api)\n",
    "editor_info = xtools_dv.get_modified_pages_counts_per_editor(the_editor['name'])\n",
    "editor_info.to_frame('value')"
   ]
  },
  {
   "cell_type": "code",
   "execution_count": null,
   "metadata": {},
   "outputs": [],
   "source": [
    "from IPython.display import display, Markdown as md\n",
    "display(md(\"---\"))\n",
    "display(md(f\"# C. Created Pages of an editor (from Xtools)\"))\n",
    "display(md(f\"***Editor: {the_editor['name']}***\"))"
   ]
  },
  {
   "cell_type": "code",
   "execution_count": null,
   "metadata": {},
   "outputs": [],
   "source": [
    "from external.xtools import XtoolsAPI, XtoolsDV\n",
    "xtools_api = XtoolsAPI(project = 'en.wikipedia.org')\n",
    "xtools_dv = XtoolsDV(xtools_api)\n",
    "created_pages = xtools_dv.get_created_pages_per_editor(the_editor['name'])\n",
    "created_pages[['human_time','page_title', 'page_len', 'rev_id', 'rev_len', 'rev_timestamp']]"
   ]
  },
  {
   "cell_type": "code",
   "execution_count": null,
   "metadata": {},
   "outputs": [],
   "source": [
    "from IPython.display import display, Markdown as md\n",
    "display(md(\"---\"))\n",
    "display(md(f\"# D. Select one page created by an editor\"))\n",
    "display(md(f\"***Editor: {the_editor['name']}***\"))"
   ]
  },
  {
   "cell_type": "code",
   "execution_count": null,
   "metadata": {},
   "outputs": [],
   "source": [
    "from external.wikipedia import WikipediaDV, WikipediaAPI\n",
    "def page_fn(page):\n",
    "    global the_page\n",
    "    global page_inputname\n",
    "    page_inputname = page\n",
    "    \n",
    "    wikipedia_dv = WikipediaDV(WikipediaAPI(domain='en.wikipedia.org'))\n",
    "    the_page = wikipedia_dv.get_page(page)\n",
    "    %store the_page\n",
    "       \n",
    "    # display the data that will be passed to the next notebook\n",
    "    display(the_page.to_frame('values'))\n",
    "\n",
    "from IPython.display import display, Markdown as md\n",
    "display(md('**Select a page based on the previous information**'))\n",
    "\n",
    "from ipywidgets import interact\n",
    "interact(page_fn, page=created_pages['page_title']);\n"
   ]
  },
  {
   "cell_type": "code",
   "execution_count": null,
   "metadata": {},
   "outputs": [],
   "source": [
    "from IPython.display import HTML\n",
    "from utils.notebooks import get_notebook_by_number\n",
    "\n",
    "display(HTML(f'<a href=\"{get_notebook_by_number(1)}\" target=\"_blank\">Go to next workbook</a>'))"
   ]
  }
 ],
 "metadata": {
  "kernelspec": {
   "display_name": "Python 3",
   "language": "python",
   "name": "python3"
  },
  "language_info": {
   "codemirror_mode": {
    "name": "ipython",
    "version": 3
   },
   "file_extension": ".py",
   "mimetype": "text/x-python",
   "name": "python",
   "nbconvert_exporter": "python",
   "pygments_lexer": "ipython3",
   "version": "3.6.6"
  }
 },
 "nbformat": 4,
 "nbformat_minor": 2
}
