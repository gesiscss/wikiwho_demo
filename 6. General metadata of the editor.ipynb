{
 "cells": [
  {
   "cell_type": "code",
   "execution_count": null,
   "metadata": {},
   "outputs": [],
   "source": [
    "%load_ext autoreload\n",
    "%autoreload 2\n",
    "\n",
    "%store -r the_page\n",
    "%store -r the_editor"
   ]
  },
  {
   "cell_type": "markdown",
   "metadata": {},
   "source": [
    "# Basic Editor Info from Wikipedia"
   ]
  },
  {
   "cell_type": "code",
   "execution_count": null,
   "metadata": {},
   "outputs": [],
   "source": [
    "# The commented code, replicates the query\n",
    "# from external.wikipedia import WikipediaDV, WikipediaAPI\n",
    "# wikipedia_dv = WikipediaDV(WikipediaAPI(domain='en.wikipedia.org'))\n",
    "# the_editor = wikipedia_dv.get_editor(the_editor['name'])\n",
    "\n",
    "the_editor.to_frame('value')"
   ]
  },
  {
   "cell_type": "markdown",
   "metadata": {},
   "source": [
    "# Modified Pages per Editor"
   ]
  },
  {
   "cell_type": "code",
   "execution_count": null,
   "metadata": {},
   "outputs": [],
   "source": [
    "from external.xtools import XtoolsAPI, XtoolsDV\n",
    "xtools_api = XtoolsAPI(project = 'en.wikipedia.org')\n",
    "xtools_dv = XtoolsDV(xtools_api)\n",
    "editor_info = xtools_dv.get_modified_pages_counts_per_editor(the_editor['name'])\n",
    "editor_info.to_frame('value')"
   ]
  },
  {
   "cell_type": "markdown",
   "metadata": {},
   "source": [
    "# Created Pages per Editor"
   ]
  },
  {
   "cell_type": "code",
   "execution_count": null,
   "metadata": {},
   "outputs": [],
   "source": [
    "from external.xtools import XtoolsAPI, XtoolsDV\n",
    "xtools_api = XtoolsAPI(project = 'en.wikipedia.org')\n",
    "xtools_dv = XtoolsDV(xtools_api)\n",
    "created_pages = xtools_dv.get_created_pages_per_editor(the_editor['name'])\n",
    "created_pages[['human_time','page_title', 'page_len', 'rev_id', 'rev_len', 'rev_timestamp']]"
   ]
  },
  {
   "cell_type": "markdown",
   "metadata": {},
   "source": [
    "# Select page created by editor"
   ]
  },
  {
   "cell_type": "code",
   "execution_count": null,
   "metadata": {},
   "outputs": [],
   "source": [
    "from external.wikipedia import WikipediaDV, WikipediaAPI\n",
    "def page_fn(page):\n",
    "    global the_page\n",
    "    global page_inputname\n",
    "    page_inputname = page\n",
    "    \n",
    "    wikipedia_dv = WikipediaDV(WikipediaAPI(domain='en.wikipedia.org'))\n",
    "    the_page = wikipedia_dv.get_page(page)\n",
    "    %store the_page\n",
    "       \n",
    "    # display the data that will be passed to the next notebook\n",
    "    display(the_page.to_frame('values'))\n",
    "\n",
    "from IPython.display import display, Markdown as md\n",
    "display(md('**Select a page based on the previous information**'))\n",
    "\n",
    "from ipywidgets import interact\n",
    "interact(page_fn, page=created_pages['page_title']);\n"
   ]
  },
  {
   "cell_type": "code",
   "execution_count": null,
   "metadata": {},
   "outputs": [],
   "source": [
    "from IPython.display import HTML\n",
    "HTML('<a href=\"1. General Metadata of a Wikipedia Article.ipynb\" target=\"_blank\">Go to next workbook</a>')"
   ]
  }
 ],
 "metadata": {
  "kernelspec": {
   "display_name": "Python 3",
   "language": "python",
   "name": "python3"
  },
  "language_info": {
   "codemirror_mode": {
    "name": "ipython",
    "version": 3
   },
   "file_extension": ".py",
   "mimetype": "text/x-python",
   "name": "python",
   "nbconvert_exporter": "python",
   "pygments_lexer": "ipython3",
   "version": "3.6.6"
  }
 },
 "nbformat": 4,
 "nbformat_minor": 2
}
