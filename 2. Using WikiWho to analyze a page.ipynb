{
 "cells": [
  {
   "cell_type": "code",
   "execution_count": null,
   "metadata": {},
   "outputs": [],
   "source": [
    "%load_ext autoreload\n",
    "%autoreload 2\n",
    "%store -r the_page"
   ]
  },
  {
   "cell_type": "code",
   "execution_count": null,
   "metadata": {},
   "outputs": [],
   "source": [
    "page_name = the_page.page_id #'Chicago'\n",
    "from external.wikipedia import WikipediaDV, WikipediaAPI\n",
    "wikipedia_dv = WikipediaDV(WikipediaAPI(domain='en.wikipedia.org'))\n",
    "page = wikipedia_dv.get_page(page_name)"
   ]
  },
  {
   "cell_type": "code",
   "execution_count": null,
   "metadata": {},
   "outputs": [],
   "source": [
    "from IPython.display import display, Markdown as md\n",
    "md(f'# A. Actions for the page \"*{the_page[\"title\"]}*\"')"
   ]
  },
  {
   "cell_type": "code",
   "execution_count": null,
   "metadata": {},
   "outputs": [],
   "source": [
    "from wikiwho_wrapper import WikiWho\n",
    "import pandas as pd\n",
    "import qgrid\n",
    "# set the default max number of rows to 10 so the larger DataFrame we render don't take up to much space \n",
    "qgrid.set_grid_option('maxVisibleRows', 5)\n",
    "\n",
    "wikiwho = WikiWho(lng='en')\n",
    "actions = wikiwho.dv.editions(the_page.page_id)\n",
    "\n",
    "# define total columns\n",
    "total_columns = ['total', 'total_surv_48h', 'total_persistent', 'total_stopword_count']\n",
    "\n",
    "# add columns with the total actions\n",
    "actions = actions.join(pd.DataFrame(\n",
    "    actions.loc[:,'adds':'adds_stopword_count'].values +\\\n",
    "    actions.loc[:,'dels':'dels_stopword_count'].values +\\\n",
    "    actions.loc[:,'reins':'reins_stopword_count'].values, \n",
    "    index=actions.index, \n",
    "    columns=total_columns\n",
    "))\n",
    "\n",
    "qgrid.show_grid(actions[['year_month', 'editor_id'] + total_columns])"
   ]
  },
  {
   "cell_type": "code",
   "execution_count": null,
   "metadata": {},
   "outputs": [],
   "source": [
    "# Convert to datetime\n",
    "actions['year_month'] = pd.to_datetime(actions['year_month'])\n",
    "\n",
    "# Group the data by year month and page (drop the editor information)\n",
    "actions.drop('editor_id', axis=1).groupby(['year_month','page_id']).sum()\n",
    "\n",
    "# Visualization\n",
    "from visualization.actions_listener import ActionsListener\n",
    "from ipywidgets import interact\n",
    "listener = ActionsListener(actions)\n",
    "action_types = (actions.loc[:,'total':'total_stopword_count'].columns.append(\n",
    "    actions.loc[:,'adds':'reins_stopword_count'].columns)).values.tolist()\n",
    "\n",
    "interact(listener.listen, \n",
    "         begin=actions.year_month,\n",
    "         end=actions.year_month.sort_values(ascending=False),\n",
    "         granularity=['Yearly', 'Monthly'],\n",
    "         black=action_types, \n",
    "         red=['total_surv_48h'] + action_types + ['None'],\n",
    "         green=['None'] + action_types, \n",
    "         blue=['None'] + action_types)"
   ]
  },
  {
   "cell_type": "code",
   "execution_count": null,
   "metadata": {},
   "outputs": [],
   "source": [
    "from IPython.display import display, Markdown as md\n",
    "display(md(f'# B. Conflict Score for the page \"*{the_page[\"title\"]}*\"'))\n",
    "display(md(f'## B.1 Tokens Conflict Score'))"
   ]
  },
  {
   "cell_type": "code",
   "execution_count": null,
   "metadata": {},
   "outputs": [],
   "source": [
    "from metrics.conflict import ConflictCalculator\n",
    "from wikiwho_wrapper import WikiWho\n",
    "from IPython.display import clear_output\n",
    "\n",
    "# create the api\n",
    "wikiwho = WikiWho(lng='en')\n",
    "\n",
    "# call the calculator\n",
    "calculator = ConflictCalculator(the_page.page_id, wikiwho)\n",
    "calculator.calculate()\n",
    "clear_output()\n",
    "\n",
    "# display the tokens, the difference in seconds and its corresponding conflict score\n",
    "actions = calculator.actions\n",
    "actions['time_diff_secs'] = actions['time_diff'].dt.total_seconds()\n",
    "qgrid.show_grid(actions[[\n",
    "    'action', 'token', 'token_id', 'rev_id', \n",
    "    'editor', 'time_diff_secs', 'conflict']].sort_values('conflict', ascending=False))\n",
    "\n",
    "actions\n"
   ]
  },
  {
   "cell_type": "markdown",
   "metadata": {},
   "source": [
    "## B.2 Conflict Score and related metrics by time"
   ]
  },
  {
   "cell_type": "code",
   "execution_count": null,
   "metadata": {},
   "outputs": [],
   "source": [
    "# Visualization\n",
    "from visualization.conflicts_listener import ConflictsListener\n",
    "listener = ConflictsListener(actions)\n",
    "\n",
    "month_year = pd.Series(actions['rev_time'].dt.to_period('D').unique()).dt.to_timestamp()\n",
    "\n",
    "metrics = ['Conflict Score', 'Conflict Ratio', 'Total Conflicts', \n",
    "           'Total Elegible Actions', 'Total Actions', 'Total Time',\n",
    "          'Time per Elegible Action']\n",
    "from ipywidgets import interact\n",
    "interact(listener.listen, \n",
    "         begin=month_year,\n",
    "         end=month_year.sort_values(ascending=False),\n",
    "         granularity=['Yearly', 'Monthly', 'Daily'],\n",
    "         black=metrics,\n",
    "         red=['None'] + metrics)"
   ]
  },
  {
   "cell_type": "code",
   "execution_count": null,
   "metadata": {},
   "outputs": [],
   "source": [
    "md(f'## B.3 Conflict Score per Editor for *{page[\"title\"]}*')"
   ]
  },
  {
   "cell_type": "code",
   "execution_count": null,
   "metadata": {},
   "outputs": [],
   "source": [
    "print(f'Total article conflict score: {calculator.get_page_conflict_score()}')\n",
    "editors_conflicts = calculator.get_conflict_score_per_editor()\n",
    "editors_conflicts"
   ]
  },
  {
   "cell_type": "markdown",
   "metadata": {},
   "source": [
    "## B.4 Grouping the conflict insertions and deletions per editor"
   ]
  },
  {
   "cell_type": "code",
   "execution_count": null,
   "metadata": {},
   "outputs": [],
   "source": [
    "# to visualize the entire tokens\n",
    "pd.set_option('display.max_colwidth', -1)\n",
    "\n",
    "# get the words that each editor introduce and delete\n",
    "conflicts = calculator.get_all_conflicts()\n",
    "if len(conflicts) == 0:\n",
    "    print(\"There are no conflicts in this article\")\n",
    "else:\n",
    "    conflict_tokens = conflicts[['token', 'editor', 'action']].groupby(\n",
    "        ['editor', 'action']).aggregate(lambda x: set(x))\n",
    "\n",
    "    # merge back with the previous table so one can see the conflict score\n",
    "    display(conflict_tokens.reset_index(1).join(\n",
    "        editors_conflicts['conflict_score']).set_index('action', append=True).sort_values(\n",
    "        'conflict_score', ascending=False))\n",
    "    "
   ]
  },
  {
   "cell_type": "code",
   "execution_count": null,
   "metadata": {},
   "outputs": [],
   "source": [
    "md(f'# C. Selecting a controversial editor for *{page[\"title\"]}*')"
   ]
  },
  {
   "cell_type": "code",
   "execution_count": null,
   "metadata": {},
   "outputs": [],
   "source": [
    "def editor_fn(editor):\n",
    "    global the_editor\n",
    "    global editor_inputname\n",
    "    editor_inputname = editor\n",
    "    \n",
    "    \n",
    "    wikipedia_dv = WikipediaDV(WikipediaAPI(domain='en.wikipedia.org'))\n",
    "    try:\n",
    "        the_editor = wikipedia_dv.get_editor(int(editor))\n",
    "    except:\n",
    "        the_editor = wikipedia_dv.get_editor(editor[2:])\n",
    "\n",
    "    # display the data that will be passed to the next notebook\n",
    "    display(the_editor.to_frame('values'))\n",
    "    \n",
    "    %store the_editor\n",
    "    %store editions\n",
    "    %store editor_inputname\n",
    "    %store calculator\n",
    "       \n",
    "if len(editors_conflicts) > 0:\n",
    "    display(md('**Select an editor based on the previous information**'))\n",
    "    display(md('*Recomendation: editors with many conflicts and moderate conflict score*'))\n",
    "    interact(editor_fn, editor=editors_conflicts.index)\n",
    "else:\n",
    "    print(\"There are no conflicts\")"
   ]
  },
  {
   "cell_type": "code",
   "execution_count": null,
   "metadata": {},
   "outputs": [],
   "source": [
    "if len(editors_conflicts) > 0:\n",
    "    from IPython.display import HTML\n",
    "    display(HTML('<a href=\"3. Using WikiWho to analyze an editor in the context of a page.ipynb\" target=\"_blank\">Go to next workbook</a>'))\n",
    "else:\n",
    "    from IPython.display import HTML\n",
    "    display(HTML('<a href=\"1. General Metadata of a Wikipedia Article.ipynb\" target=\"_blank\">Go back to the previous workbook</a>'))"
   ]
  }
 ],
 "metadata": {
  "kernelspec": {
   "display_name": "Python 3",
   "language": "python",
   "name": "python3"
  },
  "language_info": {
   "codemirror_mode": {
    "name": "ipython",
    "version": 3
   },
   "file_extension": ".py",
   "mimetype": "text/x-python",
   "name": "python",
   "nbconvert_exporter": "python",
   "pygments_lexer": "ipython3",
   "version": "3.6.6"
  }
 },
 "nbformat": 4,
 "nbformat_minor": 2
}
