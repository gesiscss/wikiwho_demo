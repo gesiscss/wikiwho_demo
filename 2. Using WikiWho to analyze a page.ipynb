{
 "cells": [
  {
   "cell_type": "code",
   "execution_count": null,
   "metadata": {},
   "outputs": [],
   "source": [
    "%load_ext autoreload\n",
    "%autoreload 2\n",
    "%store -r the_page\n",
    "\n",
    "if 'the_page' not in locals():\n",
    "    import pickle\n",
    "    print(\"Loading default data...\")\n",
    "    the_page = pickle.load(open(\"data/the_page.p\",'rb'))\n",
    "\n",
    "from IPython.display import display, Markdown as md\n",
    "display(md(\"---\"))\n",
    "display(md(f\"# A. Insertions, Deletions, Reinsertions (Actions)\"))\n",
    "display(md(f\"***Page: {the_page['title']}***\"))"
   ]
  },
  {
   "cell_type": "code",
   "execution_count": null,
   "metadata": {},
   "outputs": [],
   "source": [
    "from wikiwho_wrapper import WikiWho\n",
    "import pandas as pd\n",
    "import qgrid\n",
    "# set the default max number of rows to 10 so the larger DataFrame we render don't take up to much space \n",
    "qgrid.set_grid_option('maxVisibleRows', 5)\n",
    "\n",
    "wikiwho = WikiWho(lng='en')\n",
    "agg_actions = wikiwho.dv.actions(the_page.page_id)\n",
    "\n",
    "# define total columns\n",
    "total_columns = ['total', 'total_surv_48h', 'total_persistent', 'total_stopword_count']\n",
    "\n",
    "# add columns with the total actions\n",
    "agg_actions = agg_actions.join(pd.DataFrame(\n",
    "    agg_actions.loc[:,'adds':'adds_stopword_count'].values +\\\n",
    "    agg_actions.loc[:,'dels':'dels_stopword_count'].values +\\\n",
    "    agg_actions.loc[:,'reins':'reins_stopword_count'].values, \n",
    "    index=agg_actions.index, \n",
    "    columns=total_columns\n",
    "))\n",
    "\n",
    "qgrid.show_grid(agg_actions[['year_month', 'editor_id'] + total_columns])"
   ]
  },
  {
   "cell_type": "code",
   "execution_count": null,
   "metadata": {},
   "outputs": [],
   "source": [
    "# Convert to datetime\n",
    "agg_actions['year_month'] = pd.to_datetime(agg_actions['year_month'])\n",
    "\n",
    "# Group the data by year month and page (drop the editor information)\n",
    "agg_actions.drop('editor_id', axis=1).groupby(['year_month','page_id']).sum()\n",
    "\n",
    "# Listener\n",
    "from visualization.actions_listener import ActionsListener\n",
    "listener = ActionsListener(agg_actions)\n",
    "action_types = (agg_actions.loc[:,'total':'total_stopword_count'].columns.append(\n",
    "    agg_actions.loc[:,'adds':'reins_stopword_count'].columns)).values.tolist()\n",
    "\n",
    "# Visualization\n",
    "from utils.notebooks import get_date_slider_from_datetime\n",
    "from ipywidgets import interact\n",
    "from ipywidgets.widgets import Dropdown\n",
    "\n",
    "interact(listener.listen,\n",
    "         _range = get_date_slider_from_datetime(agg_actions['year_month']),\n",
    "         granularity=Dropdown(options=['Yearly', 'Monthly'], value='Yearly'),\n",
    "         black=Dropdown(options=action_types, value='total'), \n",
    "         red=Dropdown(options= ['None'] + action_types, value='total_surv_48h'),\n",
    "         green=Dropdown(options= ['None'] + action_types, value='None'), \n",
    "         blue=Dropdown(options= ['None'] + action_types, value='None'))"
   ]
  },
  {
   "cell_type": "code",
   "execution_count": null,
   "metadata": {},
   "outputs": [],
   "source": [
    "from IPython.display import display, Markdown as md\n",
    "display(md(\"---\"))\n",
    "display(md(f\"# B. Meassuring conflict\"))\n",
    "display(md(f'## B.1 Tokens Conflict Score'))\n",
    "display(md(f\"***Page: {the_page['title']}***\"))"
   ]
  },
  {
   "cell_type": "code",
   "execution_count": null,
   "metadata": {},
   "outputs": [],
   "source": [
    "from metrics.conflict import ConflictCalculator\n",
    "from wikiwho_wrapper import WikiWho\n",
    "from IPython.display import clear_output\n",
    "\n",
    "# create the api\n",
    "wikiwho = WikiWho(lng='en')\n",
    "\n",
    "# call the calculator\n",
    "calculator = ConflictCalculator(the_page.page_id, wikiwho)\n",
    "calculator.calculate()\n",
    "clear_output()\n",
    "\n",
    "# display the tokens, the difference in seconds and its corresponding conflict score\n",
    "actions = calculator.actions\n",
    "actions['time_diff_secs'] = actions['time_diff'].dt.total_seconds()\n",
    "qgrid.show_grid(actions[[\n",
    "    'action', 'token', 'token_id', 'rev_id', \n",
    "    'editor', 'time_diff_secs', 'conflict']].sort_values('conflict', ascending=False))\n"
   ]
  },
  {
   "cell_type": "code",
   "execution_count": null,
   "metadata": {},
   "outputs": [],
   "source": [
    "from IPython.display import display, Markdown as md\n",
    "display(md(\"---\"))\n",
    "display(md(f'## B.2 Conflicting tokens per page'))\n",
    "display(md(f\"***Page: {the_page['title']}***\"))"
   ]
  },
  {
   "cell_type": "code",
   "execution_count": null,
   "metadata": {},
   "outputs": [],
   "source": [
    "#editor_actions = calculator.actions[calculator.actions['editor']==editor_inputname]\n",
    "\n",
    "actions = calculator.actions\n",
    "\n",
    "# listener\n",
    "from visualization.wordcloud_listener import WCListener\n",
    "listener = WCListener(actions, max_words=150)\n",
    "\n",
    "# # visualization\n",
    "from utils.notebooks import get_date_slider_from_datetime\n",
    "from ipywidgets import interact\n",
    "from ipywidgets.widgets import Dropdown\n",
    "\n",
    "interact(listener.listen, \n",
    "         _range=get_date_slider_from_datetime(actions['rev_time']),\n",
    "         action=Dropdown(options=['Both', 'Just Insertions', 'Just Deletions'], value='Both'),\n",
    "         only_conflict = True,\n",
    "        max_words=100)"
   ]
  },
  {
   "cell_type": "code",
   "execution_count": null,
   "metadata": {},
   "outputs": [],
   "source": [
    "from IPython.display import display, Markdown as md\n",
    "display(md(\"---\"))\n",
    "display(md(f'## B.3 Conflict Score and related metrics'))\n",
    "display(md(f\"***Page: {the_page['title']}***\"))"
   ]
  },
  {
   "cell_type": "code",
   "execution_count": null,
   "metadata": {},
   "outputs": [],
   "source": [
    "# Visualization\n",
    "from visualization.conflicts_listener import ConflictsListener\n",
    "listener = ConflictsListener(actions)\n",
    "\n",
    "metrics = ['Conflict Score', 'Conflict Ratio', 'Total Conflicts', \n",
    "           'Total Elegible Actions', 'Total Actions', 'Total Time',\n",
    "          'Time per Elegible Action']\n",
    "\n",
    "display(md(f'**Page conflict score: {calculator.get_page_conflict_score()}**'))\n",
    "\n",
    "# Visualization\n",
    "from utils.notebooks import get_date_slider_from_datetime\n",
    "from ipywidgets import interact\n",
    "from ipywidgets.widgets import Dropdown\n",
    "\n",
    "interact(listener.listen,\n",
    "         _range = get_date_slider_from_datetime(actions['rev_time']),\n",
    "         granularity=Dropdown(options=['Yearly', 'Monthly', 'Daily'], value='Monthly'),\n",
    "         black=Dropdown(options=metrics, value='Conflict Score'),\n",
    "         red=Dropdown(options= ['None'] + metrics, value='None'))"
   ]
  },
  {
   "cell_type": "code",
   "execution_count": null,
   "metadata": {},
   "outputs": [],
   "source": [
    "from IPython.display import display, Markdown as md\n",
    "display(md(\"---\"))\n",
    "display(md(f'## B.4 Conflict Score per Editor'))\n",
    "display(md(f\"***Page: {the_page['title']}***\"))"
   ]
  },
  {
   "cell_type": "code",
   "execution_count": null,
   "metadata": {},
   "outputs": [],
   "source": [
    "editors_conflicts = calculator.get_conflict_score_per_editor()\n",
    "qg_obj = qgrid.show_grid(editors_conflicts)\n",
    "qg_obj\n"
   ]
  },
  {
   "cell_type": "code",
   "execution_count": null,
   "metadata": {},
   "outputs": [],
   "source": [
    "from IPython.display import display, Markdown as md\n",
    "display(md(\"---\"))\n",
    "display(md(f'# C. Selecting a conflicting editor'))\n",
    "display(md(f\"***Page: {the_page['title']}***\"))"
   ]
  },
  {
   "cell_type": "code",
   "execution_count": null,
   "metadata": {},
   "outputs": [],
   "source": [
    "from external.wikipedia import WikipediaDV, WikipediaAPI\n",
    "from ipywidgets import Output\n",
    "\n",
    "def select_editor(editor):\n",
    "    global the_editor\n",
    "    global editor_inputname\n",
    "    editor_inputname=editor\n",
    "    \n",
    "    wikipedia_dv = WikipediaDV(WikipediaAPI(domain='en.wikipedia.org'))\n",
    "    try:\n",
    "        the_editor = wikipedia_dv.get_editor(int(editor_inputname))\n",
    "    except:\n",
    "        the_editor = wikipedia_dv.get_editor(editor_inputname[2:])\n",
    "\n",
    "    with out:\n",
    "        %store the_editor\n",
    "        %store agg_actions\n",
    "        %store editor_inputname\n",
    "        %store calculator\n",
    "        \n",
    "        clear_output()\n",
    "        display(md(\"### Current Selection:\"))\n",
    "        \n",
    "        if 'invalid' in the_editor:\n",
    "            display(f\"The editor {editor_inputname} was not found, try a different editor\")\n",
    "        else:\n",
    "            # display the data that will be passed to the next notebook\n",
    "            display(the_editor.to_frame('values'))\n",
    "            display(md(f\"#### Evolution of the Conflict Score of *{the_editor['name']}*\"))\n",
    "            _r = tuple(actions['rev_time'][~actions['rev_time'].isnull()].dt.date.agg(\n",
    "                ['min', 'max']).values)\n",
    "            ConflictsListener(actions[actions['editor'] == editor_inputname].copy()).listen(\n",
    "                _r, 'Daily', 'Conflict Score','None')\n",
    "\n",
    "            \n",
    "\n",
    "\n",
    "def on_selection_change(change):\n",
    "\n",
    "    try:\n",
    "        select_editor(qg_obj.get_selected_df().iloc[0].name)\n",
    "    except:\n",
    "        print('Problem parsing the name. Execute the cell again and try a different editor.')\n",
    "               \n",
    "qg_obj = qgrid.show_grid(editors_conflicts)\n",
    "qg_obj.observe(on_selection_change, names=['_selected_rows'])\n",
    "display(md(\"### Select one editor row for the next notebook:\"))\n",
    "display(md('**Recomendation:** select an editor with *many conflicts* and *mid-high conflict score*'))\n",
    "display(qg_obj)\n",
    "out = Output()\n",
    "display(out)\n",
    "\n",
    "# select an editor that does not contain 0| at the beginning\n",
    "for ed in editors_conflicts.index:\n",
    "    if ed[:2] != '0|':\n",
    "        select_editor(ed)\n",
    "        break\n"
   ]
  },
  {
   "cell_type": "code",
   "execution_count": null,
   "metadata": {},
   "outputs": [],
   "source": [
    "from IPython.display import HTML\n",
    "from utils.notebooks import get_next_notebook, get_previous_notebook\n",
    "if 'the_editor' not in locals() or (the_editor is None) or (len(the_editor) == 0):\n",
    "    display(md(\"*There is no conflicting editor.*\"))\n",
    "    display(HTML(f'<a href=\"{get_previous_notebook()}\" target=\"_blank\">Go back to the previous workbook</a>'))\n",
    "    \n",
    "elif 'editcount' in the_editor and the_editor['editcount'] > 0:\n",
    "    if len(editors_conflicts) > 0:\n",
    "        display(HTML(f'<a href=\"{get_next_notebook()}\" target=\"_blank\">Go to next workbook</a>'))\n",
    "    else:\n",
    "        display(HTML(f'<a href=\"{get_previous_notebook()}\" target=\"_blank\">Go back to the previous workbook</a>'))\n",
    "else:\n",
    "    display(md(\"***The editor seems to be invalid. Either it was not not found, or the editcount is zero.***\"))\n",
    "    display(md(\"*Select a valid editor to continue to the next notebook.*\"))\n",
    "    display(HTML(f'You can also <a href=\"{get_previous_notebook()}\" target=\"_blank\">go back to the previous workbook</a>'))"
   ]
  }
 ],
 "metadata": {
  "kernelspec": {
   "display_name": "Python 3",
   "language": "python",
   "name": "python3"
  },
  "language_info": {
   "codemirror_mode": {
    "name": "ipython",
    "version": 3
   },
   "file_extension": ".py",
   "mimetype": "text/x-python",
   "name": "python",
   "nbconvert_exporter": "python",
   "pygments_lexer": "ipython3",
   "version": "3.6.7"
  }
 },
 "nbformat": 4,
 "nbformat_minor": 2
}
