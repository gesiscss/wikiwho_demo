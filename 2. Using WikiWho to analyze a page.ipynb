{
 "cells": [
  {
   "cell_type": "code",
   "execution_count": null,
   "metadata": {},
   "outputs": [],
   "source": [
    "%load_ext autoreload\n",
    "%autoreload 2\n",
    "%store -r the_page"
   ]
  },
  {
   "cell_type": "code",
   "execution_count": null,
   "metadata": {},
   "outputs": [],
   "source": [
    "page_name = the_page.page_id #'Chicago'\n",
    "from external.wikipedia import WikipediaDV, WikipediaAPI\n",
    "wikipedia_dv = WikipediaDV(WikipediaAPI(domain='en.wikipedia.org'))\n",
    "page = wikipedia_dv.get_page(page_name)"
   ]
  },
  {
   "cell_type": "markdown",
   "metadata": {},
   "source": [
    "# Editions per page with Wikiwho"
   ]
  },
  {
   "cell_type": "code",
   "execution_count": null,
   "metadata": {},
   "outputs": [],
   "source": [
    "from wikiwho_wrapper import WikiWho\n",
    "import pandas as pd\n",
    "wikiwho = WikiWho(lng='en')\n",
    "editions = wikiwho.dv.editions(the_page.page_id)\n",
    "editions.head()"
   ]
  },
  {
   "cell_type": "code",
   "execution_count": null,
   "metadata": {},
   "outputs": [],
   "source": [
    "df = editions\n",
    "df['year_month'] = pd.to_datetime(df['year_month'])\n",
    "\n",
    "# Group the data by year month and page (drop the editor information)\n",
    "df.drop('editor_id', axis=1).groupby(['year_month','page_id']).sum()\n",
    "\n",
    "# add columns with the total actions\n",
    "df = df.join(pd.DataFrame(\n",
    "    df.loc[:,'adds':'adds_stopword_count'].values +\\\n",
    "    df.loc[:,'dels':'dels_stopword_count'].values +\\\n",
    "    df.loc[:,'reins':'reins_stopword_count'].values, \n",
    "    index=df.index, \n",
    "    columns=['actions', \n",
    "             'actions_surv_48h', \n",
    "             'actions_persistent', \n",
    "             'actions_stopword_count']\n",
    "))\n",
    "\n",
    "# Visualization\n",
    "from visualization.editions_listener import DFListener\n",
    "from ipywidgets import interact\n",
    "listener = DFListener(df)\n",
    "# interact(listener.editions_per_month, \n",
    "#          begin=df.year_month,\n",
    "#          end=df.year_month.sort_values(ascending=False),\n",
    "#          actions=['All Actions', 'Additions', 'Reinsertions', 'Deletions'])\n",
    "actions = (df.loc[:,'actions':'actions_stopword_count'].columns.append(\n",
    "    df.loc[:,'adds':'reins_stopword_count'].columns)).values.tolist()\n",
    "\n",
    "\n",
    "interact(listener.editions_per_month, \n",
    "         begin=df.year_month,\n",
    "         end=df.year_month.sort_values(ascending=False),\n",
    "         granularity=['Yearly', 'Monthly'],\n",
    "         black=actions, red=['actions_surv_48h'] + actions + ['None'],\n",
    "         green=['None'] + actions, blue=['None'] + actions)\n"
   ]
  },
  {
   "cell_type": "markdown",
   "metadata": {},
   "source": [
    "# Conflict Score of Editors of a Page"
   ]
  },
  {
   "cell_type": "code",
   "execution_count": null,
   "metadata": {},
   "outputs": [],
   "source": [
    "from metrics.conflict import ConflictCalculator\n",
    "from wikiwho_wrapper import WikiWho\n",
    "\n",
    "wikiwho = WikiWho(lng='en')\n",
    "calculator = ConflictCalculator(the_page.page_id, wikiwho)\n",
    "df = calculator.calculate()\n",
    "\n",
    "print(f'Total article conflict score: {calculator.get_page_conflict_score()}')\n",
    "editor_conflicts = calculator.get_conflict_score_per_editor()\n",
    "editor_conflicts"
   ]
  },
  {
   "cell_type": "markdown",
   "metadata": {},
   "source": [
    "# Grouping the conflict insertions and deletions per author"
   ]
  },
  {
   "cell_type": "code",
   "execution_count": null,
   "metadata": {},
   "outputs": [],
   "source": [
    "# to visualize the entire tokens\n",
    "pd.set_option('display.max_colwidth', -1)\n",
    "\n",
    "# get the words that each editor introduce and delete\n",
    "conflicts = calculator.get_all_conflicts()\n",
    "conflict_tokens = conflicts[['token', 'editor', 'action']].groupby(\n",
    "    ['editor', 'action']).aggregate(lambda x: set(x))\n",
    "\n",
    "# merge back with the previous table so one can see the conflict score\n",
    "conflict_tokens.reset_index(1).join(\n",
    "    editor_conflicts['conflict_score']).set_index('action', append=True).sort_values(\n",
    "    'conflict_score', ascending=False)\n"
   ]
  },
  {
   "cell_type": "markdown",
   "metadata": {},
   "source": [
    "# Selecting the most controversial author "
   ]
  },
  {
   "cell_type": "code",
   "execution_count": null,
   "metadata": {},
   "outputs": [],
   "source": [
    "def editor_fn(editor):\n",
    "    global the_editor\n",
    "    wikipedia_dv = WikipediaDV(WikipediaAPI(domain='en.wikipedia.org'))\n",
    "    try:\n",
    "        the_editor = wikipedia_dv.get_editor(int(editor))\n",
    "    except:\n",
    "        the_editor = wikipedia_dv.get_editor(editor[2:])\n",
    "    return the_editor.to_frame('values')\n",
    "\n",
    "interact(editor_fn, editor=editor_conflicts.index);\n"
   ]
  },
  {
   "cell_type": "code",
   "execution_count": null,
   "metadata": {},
   "outputs": [],
   "source": [
    "%store the_editor\n",
    "\n",
    "from IPython.display import HTML\n",
    "HTML('<a href=\"3. General metadata of the editor.ipynb\" target=\"_blank\">Go to next workbook</a>')"
   ]
  }
 ],
 "metadata": {
  "kernelspec": {
   "display_name": "Python 3",
   "language": "python",
   "name": "python3"
  },
  "language_info": {
   "codemirror_mode": {
    "name": "ipython",
    "version": 3
   },
   "file_extension": ".py",
   "mimetype": "text/x-python",
   "name": "python",
   "nbconvert_exporter": "python",
   "pygments_lexer": "ipython3",
   "version": "3.6.6"
  }
 },
 "nbformat": 4,
 "nbformat_minor": 2
}
