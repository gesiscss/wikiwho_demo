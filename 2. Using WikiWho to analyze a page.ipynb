{
 "cells": [
  {
   "cell_type": "code",
   "execution_count": null,
   "metadata": {},
   "outputs": [],
   "source": [
    "%load_ext autoreload\n",
    "%autoreload 2\n",
    "%store -r the_page"
   ]
  },
  {
   "cell_type": "code",
   "execution_count": null,
   "metadata": {},
   "outputs": [],
   "source": [
    "page_name = the_page.page_id #'Chicago'\n",
    "from external.wikipedia import WikipediaDV, WikipediaAPI\n",
    "wikipedia_dv = WikipediaDV(WikipediaAPI(domain='en.wikipedia.org'))\n",
    "page = wikipedia_dv.get_page(page_name)"
   ]
  },
  {
   "cell_type": "markdown",
   "metadata": {},
   "source": [
    "# Editions per page with Wikiwho"
   ]
  },
  {
   "cell_type": "code",
   "execution_count": null,
   "metadata": {},
   "outputs": [],
   "source": [
    "from wikiwho_wrapper import WikiWho\n",
    "import pandas as pd\n",
    "import qgrid\n",
    "# set the default max number of rows to 10 so the larger DataFrame we render don't take up to much space \n",
    "qgrid.set_grid_option('maxVisibleRows', 5)\n",
    "\n",
    "\n",
    "wikiwho = WikiWho(lng='en')\n",
    "editions = wikiwho.dv.editions(the_page.page_id)\n",
    "\n",
    "qgrid.show_grid(editions)"
   ]
  },
  {
   "cell_type": "code",
   "execution_count": null,
   "metadata": {},
   "outputs": [],
   "source": [
    "editions['year_month'] = pd.to_datetime(editions['year_month'])\n",
    "\n",
    "# Group the data by year month and page (drop the editor information)\n",
    "editions.drop('editor_id', axis=1).groupby(['year_month','page_id']).sum()\n",
    "\n",
    "# add columns with the total actions\n",
    "editions = editions.join(pd.DataFrame(\n",
    "    editions.loc[:,'adds':'adds_stopword_count'].values +\\\n",
    "    editions.loc[:,'dels':'dels_stopword_count'].values +\\\n",
    "    editions.loc[:,'reins':'reins_stopword_count'].values, \n",
    "    index=editions.index, \n",
    "    columns=['actions', \n",
    "             'actions_surv_48h', \n",
    "             'actions_persistent', \n",
    "             'actions_stopword_count']\n",
    "))\n",
    "\n",
    "# Visualization\n",
    "from visualization.editions_listener import DFListener\n",
    "from ipywidgets import interact\n",
    "listener = DFListener(editions)\n",
    "actions = (editions.loc[:,'actions':'actions_stopword_count'].columns.append(\n",
    "    editions.loc[:,'adds':'reins_stopword_count'].columns)).values.tolist()\n",
    "\n",
    "\n",
    "interact(listener.editions_per_month, \n",
    "         begin=editions.year_month,\n",
    "         end=editions.year_month.sort_values(ascending=False),\n",
    "         granularity=['Yearly', 'Monthly'],\n",
    "         black=actions, red=['actions_surv_48h'] + actions + ['None'],\n",
    "         green=['None'] + actions, blue=['None'] + actions)\n"
   ]
  },
  {
   "cell_type": "markdown",
   "metadata": {},
   "source": [
    "# Conflict Score of Editors of a Page"
   ]
  },
  {
   "cell_type": "code",
   "execution_count": null,
   "metadata": {},
   "outputs": [],
   "source": [
    "from metrics.conflict import ConflictCalculator\n",
    "from wikiwho_wrapper import WikiWho\n",
    "\n",
    "wikiwho = WikiWho(lng='en')\n",
    "calculator = ConflictCalculator(the_page.page_id, wikiwho)\n",
    "calculator.calculate()\n"
   ]
  },
  {
   "cell_type": "markdown",
   "metadata": {},
   "source": [
    "# Conflict Score of Editors of a Page"
   ]
  },
  {
   "cell_type": "code",
   "execution_count": null,
   "metadata": {},
   "outputs": [],
   "source": [
    "print(f'Total article conflict score: {calculator.get_page_conflict_score()}')\n",
    "editors_conflicts = calculator.get_conflict_score_per_editor()\n",
    "editors_conflicts"
   ]
  },
  {
   "cell_type": "markdown",
   "metadata": {},
   "source": [
    "# Grouping the conflict insertions and deletions per editor"
   ]
  },
  {
   "cell_type": "code",
   "execution_count": null,
   "metadata": {},
   "outputs": [],
   "source": [
    "# to visualize the entire tokens\n",
    "pd.set_option('display.max_colwidth', -1)\n",
    "\n",
    "# get the words that each editor introduce and delete\n",
    "conflicts = calculator.get_all_conflicts()\n",
    "if len(conflicts) > 1:\n",
    "    conflict_tokens = conflicts[['token', 'editor', 'action']].groupby(\n",
    "        ['editor', 'action']).aggregate(lambda x: set(x))\n",
    "\n",
    "    # merge back with the previous table so one can see the conflict score\n",
    "    conflict_tokens.reset_index(1).join(\n",
    "        editors_conflicts['conflict_score']).set_index('action', append=True).sort_values(\n",
    "        'conflict_score', ascending=False)\n",
    "\n",
    "else:\n",
    "    print(\"There are no conflicts in this article\")"
   ]
  },
  {
   "cell_type": "markdown",
   "metadata": {},
   "source": [
    "# Selecting a controversial editor "
   ]
  },
  {
   "cell_type": "code",
   "execution_count": null,
   "metadata": {},
   "outputs": [],
   "source": [
    "def editor_fn(editor):\n",
    "    global the_editor\n",
    "    global editor_inputname\n",
    "    editor_inputname = editor\n",
    "    \n",
    "    \n",
    "    wikipedia_dv = WikipediaDV(WikipediaAPI(domain='en.wikipedia.org'))\n",
    "    try:\n",
    "        the_editor = wikipedia_dv.get_editor(int(editor))\n",
    "    except:\n",
    "        the_editor = wikipedia_dv.get_editor(editor[2:])\n",
    "\n",
    "    # display the data that will be passed to the next notebook\n",
    "    display(the_editor.to_frame('values'))\n",
    "    \n",
    "    %store the_editor\n",
    "    %store editions\n",
    "    %store editor_inputname\n",
    "    %store calculator\n",
    "       \n",
    "if len(editors_conflicts) > 0:\n",
    "    from IPython.display import display, Markdown as md\n",
    "    display(md('**Select an editor based on the previous information**'))\n",
    "    display(md('*Recomendation: editors with many conflicts and moderate conflict score*'))\n",
    "    interact(editor_fn, editor=editors_conflicts.index)\n",
    "else:\n",
    "    print(\"There are no conflicts\")"
   ]
  },
  {
   "cell_type": "code",
   "execution_count": null,
   "metadata": {},
   "outputs": [],
   "source": [
    "if len(editors_conflicts) > 0:\n",
    "    from IPython.display import HTML\n",
    "    HTML('<a href=\"3. Using WikiWho to analyze an editor in the context of a page.ipynb\" target=\"_blank\">Go to next workbook</a>')\n",
    "else:\n",
    "    from IPython.display import HTML\n",
    "    display(HTML('<a href=\"1. General Metadata of a Wikipedia Article.ipynb\" target=\"_blank\">Go back to the previous workbook</a>'))"
   ]
  }
 ],
 "metadata": {
  "kernelspec": {
   "display_name": "Python 3",
   "language": "python",
   "name": "python3"
  },
  "language_info": {
   "codemirror_mode": {
    "name": "ipython",
    "version": 3
   },
   "file_extension": ".py",
   "mimetype": "text/x-python",
   "name": "python",
   "nbconvert_exporter": "python",
   "pygments_lexer": "ipython3",
   "version": "3.6.7"
  }
 },
 "nbformat": 4,
 "nbformat_minor": 2
}
