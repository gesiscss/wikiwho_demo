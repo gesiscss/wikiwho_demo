{
 "cells": [
  {
   "cell_type": "code",
   "execution_count": null,
   "metadata": {},
   "outputs": [],
   "source": [
    "%load_ext autoreload\n",
    "%autoreload 2\n",
    "\n",
    "%store -r the_page\n",
    "%store -r the_editor\n",
    "%store -r editions\n",
    "%store -r calculator\n",
    "%store -r editor_inputname\n",
    "\n",
    "editor_editions = editions[editions['editor_id']==the_editor.userid]"
   ]
  },
  {
   "cell_type": "markdown",
   "metadata": {},
   "source": [
    "# 1. History of editor on a page"
   ]
  },
  {
   "cell_type": "code",
   "execution_count": null,
   "metadata": {},
   "outputs": [],
   "source": [
    "editor_editions = editions[editions['editor_id']==the_editor.userid]\n",
    "\n",
    "# Visualization\n",
    "from visualization.editions_listener import DFListener\n",
    "from ipywidgets import interact\n",
    "listener = DFListener(editor_editions)\n",
    "actions = (editor_editions.loc[:,'actions':'actions_stopword_count'].columns.append(\n",
    "    editor_editions.loc[:,'adds':'reins_stopword_count'].columns)).values.tolist()\n",
    "\n",
    "\n",
    "interact(listener.editions_per_month, \n",
    "         begin=editor_editions.year_month,\n",
    "         end=editor_editions.year_month.sort_values(ascending=False),\n",
    "         granularity=['Monthly', 'Yearly'],\n",
    "         black=actions, \n",
    "         red=['actions_surv_48h'] + actions + ['None'],\n",
    "         green=['None'] + actions, \n",
    "         blue=['None'] + actions)"
   ]
  },
  {
   "cell_type": "markdown",
   "metadata": {},
   "source": [
    "# 2. Tokens that enter into conflict with other editors"
   ]
  },
  {
   "cell_type": "code",
   "execution_count": null,
   "metadata": {},
   "outputs": [],
   "source": [
    "# Visualization\n",
    "from visualization.wordcloud_listener import WCListener\n",
    "from ipywidgets import interact\n",
    "import pandas as pd\n",
    "    \n",
    "editor_conflicts = calculator.df[calculator.df['editor']==editor_inputname]\n",
    "listener = WCListener(editor_conflicts)\n",
    "\n",
    "df = editor_conflicts\n",
    "month_year = pd.Series(df['rev_time'].dt.to_period('M').unique()).dt.to_timestamp()\n",
    "\n",
    "interact(listener.tokens_wordcloud, \n",
    "         begin=month_year.sort_values(),\n",
    "         end=month_year.sort_values(ascending=False),\n",
    "         action=['Both', 'Just insertions', 'Just Deletions'],\n",
    "         only_conflict = True)"
   ]
  },
  {
   "cell_type": "code",
   "execution_count": null,
   "metadata": {},
   "outputs": [],
   "source": [
    "from visualization.wordclouder import WordClouder\n",
    "# from visualization.wordcloud_listener import WCListener\n",
    "# from ipywidgets import interact\n",
    "# import pandas as pd\n",
    "\n",
    "df = calculator.df\n",
    "df_in = pd.Series(df[df['action']=='in']['token'] + '+')\n",
    "df_out = pd.Series(df[df['action']=='out']['token'] + '-')\n",
    "in_out = pd.concat([df_in, df_out])\n",
    "df[\"in_out\"] = in_out\n",
    "\n",
    "words = pd.Series(calculator.df.groupby('in_out').size())\n",
    "colors = {'+': '#00ff00', '-': '#ff0000'}\n",
    "\n",
    "wc = WordClouder(words, colors)\n",
    "\n",
    "words\n",
    "\n",
    "# listener = WCListener(wc)\n",
    "\n",
    "# month_year = pd.Series(df['rev_time'].dt.to_period('M').unique()).dt.to_timestamp()\n",
    "\n",
    "# interact(listener.tokens_wordcloud, \n",
    "#          begin=month_year.sort_values(),\n",
    "#          end=month_year.sort_values(ascending=False),\n",
    "#          action=['Both', 'Just insertions', 'Just Deletions'],\n",
    "#          only_conflict = True)\n"
   ]
  },
  {
   "cell_type": "code",
   "execution_count": null,
   "metadata": {},
   "outputs": [],
   "source": [
    "from IPython.display import HTML\n",
    "HTML('<a href=\"4. Using WikiWho to analyze Information about conflicting editors.ipynb\" target=\"_blank\">Go to next workbook</a>')"
   ]
  },
  {
   "cell_type": "code",
   "execution_count": null,
   "metadata": {},
   "outputs": [],
   "source": []
  }
 ],
 "metadata": {
  "kernelspec": {
   "display_name": "Python 3",
   "language": "python",
   "name": "python3"
  },
  "language_info": {
   "codemirror_mode": {
    "name": "ipython",
    "version": 3
   },
   "file_extension": ".py",
   "mimetype": "text/x-python",
   "name": "python",
   "nbconvert_exporter": "python",
   "pygments_lexer": "ipython3",
   "version": "3.6.7"
  }
 },
 "nbformat": 4,
 "nbformat_minor": 2
}
