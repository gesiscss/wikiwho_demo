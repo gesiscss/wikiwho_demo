{
 "cells": [
  {
   "cell_type": "code",
   "execution_count": null,
   "metadata": {},
   "outputs": [],
   "source": [
    "%load_ext autoreload\n",
    "%autoreload 2\n",
    "\n",
    "%store -r the_page\n",
    "%store -r the_editor\n",
    "%store -r agg_actions\n",
    "%store -r editor_inputname\n",
    "%store -r calculator\n",
    "\n",
    "\n",
    "if ('the_page' not in locals() or \n",
    "    'the_editor' not in locals() or \n",
    "    'agg_actions' not in locals() or \n",
    "    'editor_inputname' not in locals() or \n",
    "    'calculator' not in locals()):\n",
    "    import pickle\n",
    "    print(\"Loading default data...\")\n",
    "    the_page = pickle.load(open(\"data/the_page.p\",'rb'))\n",
    "    the_editor = pickle.load(open(\"data/the_editor.p\",'rb'))\n",
    "    agg_actions = pickle.load(open(\"data/agg_actions.p\",'rb'))\n",
    "    editor_inputname = pickle.load(open(\"data/editor_inputname.p\",'rb'))\n",
    "    calculator = pickle.load(open(\"data/calculator.p\",'rb'))\n",
    "    \n",
    "from IPython.display import display, Markdown as md\n",
    "display(md(\"---\"))\n",
    "display(md(f\"# A. History of editor on a page\"))\n",
    "display(md(f\"***Page: {the_page['title']}***\"))\n",
    "display(md(f\"***Editor: {the_editor['name']}***\"))"
   ]
  },
  {
   "cell_type": "code",
   "execution_count": null,
   "metadata": {},
   "outputs": [],
   "source": [
    "editor_agg_actions = agg_actions[agg_actions['editor_id']==the_editor.userid]\n",
    "\n",
    "#Listener\n",
    "from visualization.actions_listener import ActionsListener\n",
    "listener = ActionsListener(editor_agg_actions)\n",
    "actions = (editor_agg_actions.loc[:,'total':'total_stopword_count'].columns.append(\n",
    "    editor_agg_actions.loc[:,'adds':'reins_stopword_count'].columns)).values.tolist()\n",
    "\n",
    "# Visualization\n",
    "from utils.notebooks import get_date_slider_from_datetime\n",
    "from ipywidgets import interact\n",
    "from ipywidgets.widgets import Dropdown\n",
    "\n",
    "interact(listener.listen, \n",
    "         _range = get_date_slider_from_datetime(agg_actions['year_month']),\n",
    "         granularity=Dropdown(options=['Yearly', 'Monthly'], value='Monthly'),\n",
    "         black=Dropdown(options=actions, value='total'), \n",
    "         red=Dropdown(options= ['None'] + actions, value='total_surv_48h'),\n",
    "         green=Dropdown(options= ['None'] + actions, value='None'), \n",
    "         blue=Dropdown(options= ['None'] + actions, value='None'))\n",
    "         "
   ]
  },
  {
   "cell_type": "code",
   "execution_count": null,
   "metadata": {},
   "outputs": [],
   "source": [
    "from IPython.display import display, Markdown as md\n",
    "display(md(\"---\"))\n",
    "display(md(f\"# B. Token that enter into conflict with other editors\"))\n",
    "display(md(f\"***Page: {the_page['title']}***\"))\n",
    "display(md(f\"***Editor: {the_editor['name']}***\"))"
   ]
  },
  {
   "cell_type": "code",
   "execution_count": null,
   "metadata": {},
   "outputs": [],
   "source": [
    "editor_actions = calculator.actions[calculator.actions['editor']==editor_inputname]\n",
    "\n",
    "# listener\n",
    "from visualization.wordcloud_listener import WCListener\n",
    "listener = WCListener(editor_actions)\n",
    "\n",
    "# visualization\n",
    "from utils.notebooks import get_date_slider_from_datetime\n",
    "from ipywidgets import interact\n",
    "from ipywidgets.widgets import Dropdown\n",
    "\n",
    "interact(listener.listen, \n",
    "         _range=get_date_slider_from_datetime(editor_actions['rev_time']),\n",
    "         action=Dropdown(options=['Both', 'Just Insertions', 'Just Deletions'], value='Both'),\n",
    "         only_conflict = True)"
   ]
  },
  {
   "cell_type": "code",
   "execution_count": null,
   "metadata": {},
   "outputs": [],
   "source": [
    "from IPython.display import display, Markdown as md\n",
    "display(md(\"---\"))\n",
    "display(md(f\"# C. Tokens in the page owner by the editor\"))\n",
    "display(md(f\"***Page: {the_page['title']}***\"))\n",
    "display(md(f\"***Editor: {the_editor['name']}***\"))"
   ]
  },
  {
   "cell_type": "code",
   "execution_count": null,
   "metadata": {},
   "outputs": [],
   "source": [
    "from visualization.owned_listener import OwnedListener\n",
    "owned = calculator.get_all_tokens(stopwords=True)\n",
    "listener = OwnedListener(owned, editor_inputname)\n",
    "\n",
    "# Visualization\n",
    "from utils.notebooks import get_date_slider_from_datetime\n",
    "from ipywidgets import interact\n",
    "from ipywidgets.widgets import Dropdown\n",
    "\n",
    "interact(listener.listen,\n",
    "         _range = get_date_slider_from_datetime(owned['rev_time']),\n",
    "         granularity=Dropdown(options=['Yearly', 'Monthly', 'Daily'], value='Daily'),\n",
    "         trace=Dropdown(options=['Tokens Owned (%)', 'Tokens Owned' ], value='Tokens Owned (%)'))"
   ]
  },
  {
   "cell_type": "code",
   "execution_count": null,
   "metadata": {},
   "outputs": [],
   "source": [
    "from IPython.display import HTML\n",
    "from utils.notebooks import get_next_notebook, get_previous_notebook\n",
    "\n",
    "if len(editor_actions) > 0:\n",
    "    display(HTML(f'<a href=\"{get_next_notebook()}\" target=\"_blank\">Go to next workbook</a>'))\n",
    "else:\n",
    "    display(HTML(f'<a href=\"{get_previous_notebook()}\" target=\"_blank\">Go back to the previous workbook</a>'))"
   ]
  }
 ],
 "metadata": {
  "kernelspec": {
   "display_name": "Python 3",
   "language": "python",
   "name": "python3"
  },
  "language_info": {
   "codemirror_mode": {
    "name": "ipython",
    "version": 3
   },
   "file_extension": ".py",
   "mimetype": "text/x-python",
   "name": "python",
   "nbconvert_exporter": "python",
   "pygments_lexer": "ipython3",
   "version": "3.6.7"
  }
 },
 "nbformat": 4,
 "nbformat_minor": 2
}
