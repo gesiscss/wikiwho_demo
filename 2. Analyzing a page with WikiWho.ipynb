{
 "cells": [
  {
   "cell_type": "code",
   "execution_count": null,
   "metadata": {},
   "outputs": [],
   "source": [
    "%load_ext autoreload\n",
    "%autoreload 2\n",
    "%store -r page"
   ]
  },
  {
   "cell_type": "markdown",
   "metadata": {},
   "source": [
    "## 1.4 Editions per page with Wikiwho"
   ]
  },
  {
   "cell_type": "code",
   "execution_count": null,
   "metadata": {},
   "outputs": [],
   "source": []
  },
  {
   "cell_type": "code",
   "execution_count": null,
   "metadata": {},
   "outputs": [],
   "source": [
    "from wikiwho_wrapper import WikiWhoAPI, DataView as WikiWhoDV\n",
    "import pandas as pd\n",
    "api = WikiWhoAPI(lng='en')\n",
    "wikiwho_dv = WikiWhoDV(api)\n",
    "editions = wikiwho_dv.editor_content(page.page_id)\n",
    "editions.head()"
   ]
  },
  {
   "cell_type": "code",
   "execution_count": null,
   "metadata": {},
   "outputs": [],
   "source": [
    "df = editions\n",
    "df['year_month'] = pd.to_datetime(df['year_month'])\n",
    "\n",
    "# Group the data by year month and page (drop the editor information)\n",
    "df.drop('editor_id', axis=1).groupby(['year_month','page_id']).sum()\n",
    "\n",
    "# add columns with the total actions\n",
    "df = df.join(pd.DataFrame(\n",
    "    df.loc[:,'adds':'adds_stopword_count'].values +\\\n",
    "    df.loc[:,'dels':'dels_stopword_count'].values +\\\n",
    "    df.loc[:,'reins':'reins_stopword_count'].values, \n",
    "    index=df.index, \n",
    "    columns=['actions', \n",
    "             'actions_surv_48h', \n",
    "             'actions_persistent', \n",
    "             'actions_stopword_count']\n",
    "))\n",
    "\n",
    "# Visualization\n",
    "from visualization.editions_listener import DFListener\n",
    "from ipywidgets import interact\n",
    "listener = DFListener(df)\n",
    "# interact(listener.editions_per_month, \n",
    "#          begin=df.year_month,\n",
    "#          end=df.year_month.sort_values(ascending=False),\n",
    "#          actions=['All Actions', 'Additions', 'Reinsertions', 'Deletions'])\n",
    "actions = df.loc[:,'actions':'actions_stopword_count'].columns.append(\n",
    "    df.loc[:,'adds':'reins_stopword_count'].columns)\n",
    "interact(listener.editions_per_month, \n",
    "         begin=df.year_month,\n",
    "         end=df.year_month.sort_values(ascending=False),\n",
    "         granularity=['Yearly', 'Monthly'],\n",
    "         first_action=actions,\n",
    "         second_action=actions)\n"
   ]
  },
  {
   "cell_type": "markdown",
   "metadata": {},
   "source": [
    "## Conflict Score of Editors of a Page"
   ]
  },
  {
   "cell_type": "code",
   "execution_count": null,
   "metadata": {},
   "outputs": [],
   "source": [
    "editors = editions['editor_id'].unique()\n",
    "editors"
   ]
  },
  {
   "cell_type": "code",
   "execution_count": null,
   "metadata": {},
   "outputs": [],
   "source": [
    "from wikiwho_wrapper import WikiWhoAPI, DataView as WikiWhoDV\n",
    "from metrics.Conflict_Score import conflictScore_token_list\n",
    "\n",
    "api = WikiWhoAPI(lng='en')\n",
    "wikiwho_dv = WikiWhoDV(api)\n",
    "revisions = wikiwho_dv.rev_ids_of_article(page.page_id)\n",
    "tokens = wikiwho_dv.all_content(page.page_id)\n",
    "\n",
    "\n",
    "\n",
    "\n",
    "\n"
   ]
  },
  {
   "cell_type": "code",
   "execution_count": null,
   "metadata": {},
   "outputs": [],
   "source": [
    "from metrics.Conflict_Score import conflictScore_token_list\n",
    "conflictScore_token_list(tokens, 162969, revisions)"
   ]
  },
  {
   "cell_type": "code",
   "execution_count": null,
   "metadata": {},
   "outputs": [],
   "source": [
    "revisions.head()"
   ]
  },
  {
   "cell_type": "code",
   "execution_count": null,
   "metadata": {},
   "outputs": [],
   "source": [
    "tokens.loc[tokens['in'] == -1,'in'] = tokens.loc[tokens['in'] == -1,'o_rev_id']\n",
    "tokens.head()"
   ]
  },
  {
   "cell_type": "code",
   "execution_count": null,
   "metadata": {},
   "outputs": [],
   "source": [
    "#tokens[tokens['o_editor']=='25450560']\n",
    "\n",
    "rev_ins = revisions[['rev_time', 'rev_id', 'o_editor']].rename(\n",
    "    columns={'rev_time': 'in_rev_time',\n",
    "             'rev_id': 'in',\n",
    "             'o_editor': 'in_editor'}\n",
    ")\n",
    "\n",
    "rev_outs = revisions[['rev_time', 'rev_id', 'o_editor']].rename(\n",
    "    columns={\n",
    "        'rev_time': 'out_rev_time', \n",
    "        'rev_id': 'out',\n",
    "        'o_editor': 'out_editor'\n",
    "    }\n",
    ")\n",
    "\n",
    "fulltokens = pd.merge(tokens, rev_ins, how='left', on='in')\n",
    "fulltokens = pd.merge(fulltokens, rev_outs, how='left', on='out')\n",
    "\n",
    "fulltokens"
   ]
  },
  {
   "cell_type": "code",
   "execution_count": null,
   "metadata": {},
   "outputs": [],
   "source": [
    "tokens.set_index('token_id')\n",
    "\n",
    "possible_conflicts = tokens.groupby('token_id').size() > 3\n",
    "possible_conflicts[possible_conflicts].index"
   ]
  }
 ],
 "metadata": {
  "kernelspec": {
   "display_name": "Python 3",
   "language": "python",
   "name": "python3"
  },
  "language_info": {
   "codemirror_mode": {
    "name": "ipython",
    "version": 3
   },
   "file_extension": ".py",
   "mimetype": "text/x-python",
   "name": "python",
   "nbconvert_exporter": "python",
   "pygments_lexer": "ipython3",
   "version": "3.6.6"
  }
 },
 "nbformat": 4,
 "nbformat_minor": 2
}
