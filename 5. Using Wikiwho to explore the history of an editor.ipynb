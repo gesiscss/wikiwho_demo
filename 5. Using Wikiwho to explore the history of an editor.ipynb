{
 "cells": [
  {
   "cell_type": "code",
   "execution_count": null,
   "metadata": {},
   "outputs": [],
   "source": [
    "%load_ext autoreload\n",
    "%autoreload 2\n",
    "%store -r the_editor\n",
    "the_editor.to_frame('value')"
   ]
  },
  {
   "cell_type": "markdown",
   "metadata": {},
   "source": [
    "# Editions per editor with Wikiwho"
   ]
  },
  {
   "cell_type": "code",
   "execution_count": null,
   "metadata": {},
   "outputs": [],
   "source": [
    "from wikiwho_wrapper import WikiWho\n",
    "import pandas as pd\n",
    "wikiwho = WikiWho(lng='en')\n",
    "editions = wikiwho.dv.editions(editor_id = the_editor.userid)\n",
    "editions.head()"
   ]
  },
  {
   "cell_type": "code",
   "execution_count": null,
   "metadata": {},
   "outputs": [],
   "source": [
    "editor_editions = editions\n",
    "editor_editions['year_month'] = pd.to_datetime(editor_editions['year_month'])\n",
    "\n",
    "# Group the data by year month and page (drop the editor information)\n",
    "editor_editions.drop('editor_id', axis=1).groupby(['year_month','page_id']).sum()\n",
    "\n",
    "# add columns with the total actions\n",
    "editor_editions = editor_editions.join(pd.DataFrame(\n",
    "    editor_editions.loc[:,'adds':'adds_stopword_count'].values +\\\n",
    "    editor_editions.loc[:,'dels':'dels_stopword_count'].values +\\\n",
    "    editor_editions.loc[:,'reins':'reins_stopword_count'].values, \n",
    "    index=editor_editions.index, \n",
    "    columns=['actions', \n",
    "             'actions_surv_48h', \n",
    "             'actions_persistent', \n",
    "             'actions_stopword_count']\n",
    "))\n",
    "\n",
    "# Visualization\n",
    "from visualization.editions_listener import DFListener\n",
    "from ipywidgets import interact\n",
    "listener = DFListener(editor_editions)\n",
    "actions = (editor_editions.loc[:,'actions':'actions_stopword_count'].columns.append(\n",
    "    editor_editions.loc[:,'adds':'reins_stopword_count'].columns)).values.tolist()\n",
    "\n",
    "\n",
    "interact(listener.editions_per_month, \n",
    "         begin=editor_editions.year_month,\n",
    "         end=editor_editions.year_month.sort_values(ascending=False),\n",
    "         granularity=['Monthly', 'Yearly'],\n",
    "         black=actions, red=['actions_surv_48h'] + actions + ['None'],\n",
    "         green=['None'] + actions, blue=['None'] + actions)\n"
   ]
  },
  {
   "cell_type": "code",
   "execution_count": null,
   "metadata": {},
   "outputs": [],
   "source": [
    "from IPython.display import HTML\n",
    "HTML('<a href=\"6. General metadata of the editor.ipynb\" target=\"_blank\">Go to next workbook</a>')"
   ]
  }
 ],
 "metadata": {
  "kernelspec": {
   "display_name": "Python 3",
   "language": "python",
   "name": "python3"
  },
  "language_info": {
   "codemirror_mode": {
    "name": "ipython",
    "version": 3
   },
   "file_extension": ".py",
   "mimetype": "text/x-python",
   "name": "python",
   "nbconvert_exporter": "python",
   "pygments_lexer": "ipython3",
   "version": "3.6.6"
  }
 },
 "nbformat": 4,
 "nbformat_minor": 2
}
