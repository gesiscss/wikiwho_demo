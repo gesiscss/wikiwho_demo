{
 "cells": [
  {
   "cell_type": "code",
   "execution_count": null,
   "metadata": {},
   "outputs": [],
   "source": [
    "%load_ext autoreload\n",
    "%autoreload 2\n",
    "%store -r the_page\n",
    "#the_page"
   ]
  },
  {
   "cell_type": "markdown",
   "metadata": {},
   "source": [
    "# 1. General Metadata of a Wikipedia Article\n",
    "\n",
    "Let's say we are interested in the Wikipedia historical evolution of one article, the novel \"The Camp of the Saints\". We can get some data from Wikipedia itself, and some third party sources:"
   ]
  },
  {
   "cell_type": "markdown",
   "metadata": {},
   "source": [
    "## 1.1 Basic Info from Wikipedia"
   ]
  },
  {
   "cell_type": "code",
   "execution_count": null,
   "metadata": {},
   "outputs": [],
   "source": [
    "from ipywidgets import widgets\n",
    "from IPython.display import display\n",
    "from external.wikipedia import WikipediaDV, WikipediaAPI\n",
    "wikipedia_dv = WikipediaDV(WikipediaAPI(domain='en.wikipedia.org'))\n",
    "\n",
    "def on_button_clicked(b):\n",
    "    global the_page\n",
    "    if searchTerm.value == \"\":\n",
    "        print(f\"Please input a page name or id in the input field\")\n",
    "        return\n",
    "    \n",
    "    the_page = wikipedia_dv.get_page(searchTerm.value)\n",
    "    \n",
    "    if 'missing' in the_page:\n",
    "        print(f\"The page {searchTerm.value} was not found\")\n",
    "        \n",
    "    display(the_page.to_frame('value'))\n",
    "\n",
    "try:\n",
    "    searchTerm = widgets.Text(the_page['title'], description='Page title:')\n",
    "except:\n",
    "    searchTerm = widgets.Text(\"The Camp of the Saints\", description='Page title:')\n",
    "button = widgets.Button(description=\"Search\")\n",
    "\n",
    "display(searchTerm,button)\n",
    "button.on_click(on_button_clicked)\n",
    "button.click()"
   ]
  },
  {
   "cell_type": "markdown",
   "metadata": {},
   "source": [
    "## 1.2 General Stats from Xtools"
   ]
  },
  {
   "cell_type": "code",
   "execution_count": null,
   "metadata": {},
   "outputs": [],
   "source": [
    "from external.xtools import XtoolsAPI, XtoolsDV\n",
    "xtools_api = XtoolsAPI(project = 'en.wikipedia.org')\n",
    "xtools_dv = XtoolsDV(xtools_api)\n",
    "page_info = xtools_dv.get_page_info(the_page['title'])\n",
    "page_info.to_frame('value')"
   ]
  },
  {
   "cell_type": "markdown",
   "metadata": {},
   "source": [
    "## 1.3 Page Views from Wikimedia"
   ]
  },
  {
   "cell_type": "code",
   "execution_count": null,
   "metadata": {},
   "outputs": [],
   "source": [
    "# Query request\n",
    "from external.wikimedia import WikiMediaDV, WikiMediaAPI\n",
    "wikimedia_api = WikiMediaAPI(project='en.wikipedia')\n",
    "wikimedia_dv = WikiMediaDV(wikimedia_api)\n",
    "views = wikimedia_dv.get_pageviews(the_page['title'], 'daily')\n",
    "\n",
    "# Visualization\n",
    "from visualization.listeners import DFListener\n",
    "from ipywidgets import interact\n",
    "listener = DFListener(views)\n",
    "interact(listener.views_per_period, \n",
    "         begin=views.timestamp,\n",
    "         end=views.timestamp.sort_values(ascending=False),\n",
    "         granularity=['Yearly', 'Monthly', 'Weekly', 'Daily'])\n",
    "\n",
    "# The df_plotted keeps a reference to the plotted data above\n",
    "listener.df_plotted['views'].agg({\n",
    "    'Total views': sum,\n",
    "    'Max views period': max,\n",
    "    'Min views period': min,\n",
    "    'Average views': min,}).to_frame('Value')"
   ]
  },
  {
   "cell_type": "code",
   "execution_count": null,
   "metadata": {},
   "outputs": [],
   "source": [
    "%store the_page\n",
    "\n",
    "from IPython.display import HTML\n",
    "HTML('<a href=\"2. Using WikiWho to analyze a page.ipynb\" target=\"_blank\">Go to next workbook</a>')"
   ]
  }
 ],
 "metadata": {
  "kernelspec": {
   "display_name": "Python 3",
   "language": "python",
   "name": "python3"
  },
  "language_info": {
   "codemirror_mode": {
    "name": "ipython",
    "version": 3
   },
   "file_extension": ".py",
   "mimetype": "text/x-python",
   "name": "python",
   "nbconvert_exporter": "python",
   "pygments_lexer": "ipython3",
   "version": "3.6.6"
  }
 },
 "nbformat": 4,
 "nbformat_minor": 2
}
