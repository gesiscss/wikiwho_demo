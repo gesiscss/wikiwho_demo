{
 "cells": [
  {
   "cell_type": "markdown",
   "metadata": {},
   "source": [
    "# General Metadata of a Wikipedia Article\n",
    "\n",
    "Let's say we are interested in the Wikipedia historical evolution of one article, the novel \"The Camp of the Saints\". We can get some data from Wikipedia itself, and some third party sources:"
   ]
  },
  {
   "cell_type": "code",
   "execution_count": null,
   "metadata": {},
   "outputs": [],
   "source": [
    "# Actions_per_Edits = ActionsperEdits(article_id)\n",
    "# TimeSpend = TimeSpentEditing(article_id) \n",
    "# req, res = artsum.getArticleInfo(article_name, article_id)\n",
    "# table = [\n",
    "#         ['Watchers', req['watchers']],\n",
    "#         ['Pageviews', req['pageviews']],\n",
    "#         ['Pageviews Offset', req['pageviews_offset']],\n",
    "#         ['Revisions', req['revisions']],\n",
    "#         ['Editors', req['editors']],\n",
    "#         ['Author', req['author']],\n",
    "#         ['Created', req['created_at']],\n",
    "#         ['Creation Rev', req['created_rev_id']],\n",
    "#         ['Last modified', req['modified_at']],\n",
    "#         ['Last Rev ID', req['last_edit_id']],\n",
    "#         ['Total Views', totalViewsM.views.values.sum()],\n",
    "#         ['Actions per Edits Within 48 Hours', round(Actions_per_Edits.ActionsperEditsWithin48Hour[0], 2)],\n",
    "#         ['Actions per Edits After 48 Hours', round(Actions_per_Edits.ActionsperEditsAfter48Hour[0], 2)],\n",
    "#         ['Actions per Edits Exactly in 48 Hours', round(Actions_per_Edits.ActionsperEditsExactlyin48Hour[0], 2)],\n",
    "#         ['Sessions Within  48 Hours', TimeSpend.SessionsWithin48Hours.item()],\n",
    "#         ['Sessions After 48 Hours', TimeSpend.SessionsAfter48Hours.item()],\n",
    "#         ['Sessions Exactly in 48 Hours', TimeSpend.SessionsExactlyin48Hours.item()]\n",
    "#     ]\n",
    "\n",
    "# display(HTML(tabulate.tabulate(table, tablefmt='html')))"
   ]
  },
  {
   "cell_type": "code",
   "execution_count": null,
   "metadata": {},
   "outputs": [],
   "source": [
    "%load_ext autoreload\n",
    "%autoreload 2\n",
    "page_name = 'The_Camp_of_the_Saints'"
   ]
  },
  {
   "cell_type": "code",
   "execution_count": null,
   "metadata": {},
   "outputs": [],
   "source": [
    "from external.xtools import XtoolsAPI\n",
    "xtools_api = XtoolsAPI(project = 'en.wikipedia.org')\n",
    "page_info = xtools_api.get_article_info(page_name)"
   ]
  },
  {
   "cell_type": "code",
   "execution_count": null,
   "metadata": {},
   "outputs": [],
   "source": [
    "from external.wikimedia import WikiMediaDV, WikiMediaAPI\n",
    "wikimedia_api = WikiMediaAPI(project='en.wikipedia')\n",
    "wikimedia_dv = WikiMediaDV(wikimedia_api)\n",
    "monthly_views = wikimedia_dv.get_pageviews(page_name)\n",
    "monthly_views.head()"
   ]
  },
  {
   "cell_type": "code",
   "execution_count": null,
   "metadata": {},
   "outputs": [],
   "source": [
    "from external.wikipedia import WikipediaDV, WikipediaAPI\n",
    "wikipedia_api = WikipediaAPI()\n",
    "wikipedia_dv = WikipediaDV(wikipedia_api)\n",
    "page = wikipedia_dv.get_page(page_name)"
   ]
  },
  {
   "cell_type": "code",
   "execution_count": null,
   "metadata": {},
   "outputs": [],
   "source": [
    "page.title"
   ]
  },
  {
   "cell_type": "code",
   "execution_count": null,
   "metadata": {},
   "outputs": [],
   "source": [
    "from wikiwho_wrapper import WikiWhoAPI, DataView as WikiWhoDV\n",
    "api = WikiWhoAPI(lng='en')\n",
    "wikiwho_dv = WikiWhoDV(api)\n",
    "wikiwho_dv.editor_content(article_name).head()"
   ]
  },
  {
   "cell_type": "code",
   "execution_count": null,
   "metadata": {},
   "outputs": [],
   "source": []
  }
 ],
 "metadata": {
  "kernelspec": {
   "display_name": "Python 3",
   "language": "python",
   "name": "python3"
  },
  "language_info": {
   "codemirror_mode": {
    "name": "ipython",
    "version": 3
   },
   "file_extension": ".py",
   "mimetype": "text/x-python",
   "name": "python",
   "nbconvert_exporter": "python",
   "pygments_lexer": "ipython3",
   "version": "3.6.6"
  }
 },
 "nbformat": 4,
 "nbformat_minor": 2
}
