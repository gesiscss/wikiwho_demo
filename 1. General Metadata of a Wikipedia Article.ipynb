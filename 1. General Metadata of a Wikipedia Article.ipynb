{
 "cells": [
  {
   "cell_type": "code",
   "execution_count": 1,
   "metadata": {},
   "outputs": [],
   "source": [
    "%load_ext autoreload\n",
    "%autoreload 2\n",
    "%store -r the_page\n",
    "\n",
    "if 'the_page' not in locals():\n",
    "    import pickle\n",
    "    print(\"Loading default data...\")\n",
    "    the_page = pickle.load(open(\"data/the_page.p\",'rb'))"
   ]
  },
  {
   "cell_type": "markdown",
   "metadata": {},
   "source": [
    "\n",
    "\n",
    "# Welcome!\n",
    "\n",
    "You have just opened a collection of notebooks that lets you inspect the evolution of the revision history of a Wikipedia article, up to now (From the English language edition). It also allows you to highlight **article- or word-specific conflicts as well as the productivity of any given editor.** \n",
    "\n",
    "Specifically, for the notebooks after this initial one, it interfaces with the API of a specialized service called [WikiWho](www.wikiwho.net), which provides fine-grained change information about the tokens (words) in an article. \n",
    "\n",
    "It is written in a way that you can **explore it like a Web app, without interacting with the code behind it**, or - if you choose to - click on \"edit app\" in the Juypter navigation bar and play around with the code yourself. \n",
    "\n",
    "The default introduction example is the article \"The Camp of the Saints\" (a novel), which we recommend to start with. You can enter/search an article of your choice and explore it as well. \n",
    "\n",
    "Let's first get live data of some general statistics from Wikipedias own API and a service called Xtools:"
   ]
  },
  {
   "cell_type": "code",
   "execution_count": 2,
   "metadata": {},
   "outputs": [
    {
     "data": {
      "text/markdown": [
       "---"
      ],
      "text/plain": [
       "<IPython.core.display.Markdown object>"
      ]
     },
     "metadata": {},
     "output_type": "display_data"
    },
    {
     "data": {
      "text/markdown": [
       "# A. Basic Info from Wikipedia"
      ],
      "text/plain": [
       "<IPython.core.display.Markdown object>"
      ]
     },
     "metadata": {},
     "output_type": "display_data"
    },
    {
     "data": {
      "text/markdown": [
       "***Search for an article on the English Wikipedia***"
      ],
      "text/plain": [
       "<IPython.core.display.Markdown object>"
      ]
     },
     "metadata": {},
     "output_type": "display_data"
    }
   ],
   "source": [
    "from IPython.display import display, Markdown as md\n",
    "display(md(\"---\"))\n",
    "display(md(f\"# A. Basic Info from Wikipedia\"))\n",
    "display(md(f\"***Search for an article on the English Wikipedia***\"))"
   ]
  },
  {
   "cell_type": "code",
   "execution_count": 3,
   "metadata": {},
   "outputs": [
    {
     "data": {
      "application/vnd.jupyter.widget-view+json": {
       "model_id": "269257ba4e4a4c0f83c7e8380dcd3f05",
       "version_major": 2,
       "version_minor": 0
      },
      "text/plain": [
       "Text(value='The Camp of the Saints', description='Page title:')"
      ]
     },
     "metadata": {},
     "output_type": "display_data"
    },
    {
     "data": {
      "text/markdown": [
       "e.g. *The Camp of the Saints*"
      ],
      "text/plain": [
       "<IPython.core.display.Markdown object>"
      ]
     },
     "metadata": {},
     "output_type": "display_data"
    },
    {
     "data": {
      "application/vnd.jupyter.widget-view+json": {
       "model_id": "be018df8a1ec49f8b16a2e28a051d5a2",
       "version_major": 2,
       "version_minor": 0
      },
      "text/plain": [
       "Button(description='Search', style=ButtonStyle())"
      ]
     },
     "metadata": {},
     "output_type": "display_data"
    },
    {
     "data": {
      "application/vnd.jupyter.widget-view+json": {
       "model_id": "3951db7e5d8c425588f37b18d8a3a5ca",
       "version_major": 2,
       "version_minor": 0
      },
      "text/plain": [
       "Output()"
      ]
     },
     "metadata": {},
     "output_type": "display_data"
    }
   ],
   "source": [
    "from ipywidgets import widgets, Output\n",
    "from IPython.display import display, clear_output\n",
    "from external.wikipedia import WikipediaDV, WikipediaAPI\n",
    "wikipedia_dv = WikipediaDV(WikipediaAPI(domain='en.wikipedia.org'))\n",
    "\n",
    "# the method that listens to the click event\n",
    "def on_button_clicked(b):\n",
    "    global the_page\n",
    "    \n",
    "    # use the out widget so the output is overwritten when two or more\n",
    "    # searches are performed\n",
    "    with out:\n",
    "        try:\n",
    "            # query wikipedia\n",
    "            search_result = wikipedia_dv.search_page(searchTerm.value)\n",
    "            the_page = wikipedia_dv.get_page(search_result)\n",
    "            %store the_page\n",
    "            clear_output()\n",
    "            display(the_page.to_frame('value'))\n",
    "            display(md(f'You selected:'))\n",
    "            display(the_page['title'])\n",
    "\n",
    "        except:\n",
    "            clear_output()\n",
    "            display(md(f'The page title *\"{searchTerm.value}\"* was not found'))\n",
    "\n",
    "# by default display the last search\n",
    "try:\n",
    "    searchTerm = widgets.Text(the_page['title'], description='Page title:')\n",
    "except:\n",
    "    searchTerm = widgets.Text(\"The Camp of the Saints\", description='Page title:')\n",
    "\n",
    "# create and display the button    \n",
    "button = widgets.Button(description=\"Search\")\n",
    "example = md(\"e.g. *The Camp of the Saints*\")\n",
    "display(searchTerm,example,button)\n",
    "\n",
    "# the output widget is used to remove the output after the search field\n",
    "out = Output()\n",
    "display(out)\n",
    "\n",
    "# set the event\n",
    "button.on_click(on_button_clicked)\n",
    "\n",
    "# trigger the event with the default value\n",
    "on_button_clicked(button)\n",
    "\n",
    "\n"
   ]
  },
  {
   "cell_type": "code",
   "execution_count": 4,
   "metadata": {},
   "outputs": [
    {
     "data": {
      "text/markdown": [
       "If this is correct, load the data and set this as the article to explore."
      ],
      "text/plain": [
       "<IPython.core.display.Markdown object>"
      ]
     },
     "metadata": {},
     "output_type": "display_data"
    },
    {
     "data": {
      "application/vnd.jupyter.widget-view+json": {
       "model_id": "bb79bbf0cb0e4cecac022f7249d462a8",
       "version_major": 2,
       "version_minor": 0
      },
      "text/plain": [
       "Button(button_style='info', description='Load data', style=ButtonStyle())"
      ]
     },
     "metadata": {},
     "output_type": "display_data"
    }
   ],
   "source": [
    "from ipywidgets import  widgets\n",
    "from IPython.display import display, Javascript\n",
    "\n",
    "def run_below(ev):\n",
    "    display(Javascript('IPython.notebook.execute_cells_below()'))\n",
    "\n",
    "display(md(f'If this is correct, load the data and set this as the article to explore.'))\n",
    "button = widgets.Button(description=\"Load data\", button_style='info', min_width=500)\n",
    "button.on_click(run_below)\n",
    "display(button)"
   ]
  },
  {
   "cell_type": "code",
   "execution_count": 5,
   "metadata": {},
   "outputs": [
    {
     "data": {
      "text/markdown": [
       "---"
      ],
      "text/plain": [
       "<IPython.core.display.Markdown object>"
      ]
     },
     "metadata": {},
     "output_type": "display_data"
    },
    {
     "data": {
      "text/markdown": [
       "# B. General Statistics "
      ],
      "text/plain": [
       "<IPython.core.display.Markdown object>"
      ]
     },
     "metadata": {},
     "output_type": "display_data"
    },
    {
     "data": {
      "text/markdown": [
       "Provided through the Xtools API (1)"
      ],
      "text/plain": [
       "<IPython.core.display.Markdown object>"
      ]
     },
     "metadata": {},
     "output_type": "display_data"
    },
    {
     "data": {
      "text/markdown": [
       "***Page: The Camp of the Saints***"
      ],
      "text/plain": [
       "<IPython.core.display.Markdown object>"
      ]
     },
     "metadata": {},
     "output_type": "display_data"
    }
   ],
   "source": [
    "from IPython.display import display, Markdown as md\n",
    "display(md(\"---\"))\n",
    "display(md(f\"# B. General Statistics \"))\n",
    "display(md(f\"Provided through the Xtools API (1)\"))\n",
    "display(md(f\"***Page: {the_page['title']}***\"))"
   ]
  },
  {
   "cell_type": "code",
   "execution_count": 6,
   "metadata": {},
   "outputs": [
    {
     "data": {
      "text/html": [
       "<div>\n",
       "<style scoped>\n",
       "    .dataframe tbody tr th:only-of-type {\n",
       "        vertical-align: middle;\n",
       "    }\n",
       "\n",
       "    .dataframe tbody tr th {\n",
       "        vertical-align: top;\n",
       "    }\n",
       "\n",
       "    .dataframe thead th {\n",
       "        text-align: right;\n",
       "    }\n",
       "</style>\n",
       "<table border=\"1\" class=\"dataframe\">\n",
       "  <thead>\n",
       "    <tr style=\"text-align: right;\">\n",
       "      <th></th>\n",
       "      <th>value</th>\n",
       "    </tr>\n",
       "  </thead>\n",
       "  <tbody>\n",
       "    <tr>\n",
       "      <th>Project name</th>\n",
       "      <td>en.wikipedia.org</td>\n",
       "    </tr>\n",
       "    <tr>\n",
       "      <th>Page name</th>\n",
       "      <td>The Camp of the Saints</td>\n",
       "    </tr>\n",
       "    <tr>\n",
       "      <th>Watchers (2)</th>\n",
       "      <td>86</td>\n",
       "    </tr>\n",
       "    <tr>\n",
       "      <th>Page Views (per 30 days)</th>\n",
       "      <td>23941</td>\n",
       "    </tr>\n",
       "    <tr>\n",
       "      <th>Revisions</th>\n",
       "      <td>504</td>\n",
       "    </tr>\n",
       "    <tr>\n",
       "      <th>Editors</th>\n",
       "      <td>237</td>\n",
       "    </tr>\n",
       "    <tr>\n",
       "      <th>minor_edits</th>\n",
       "      <td>99</td>\n",
       "    </tr>\n",
       "    <tr>\n",
       "      <th>Creator of the page</th>\n",
       "      <td>Morning star</td>\n",
       "    </tr>\n",
       "    <tr>\n",
       "      <th>Creation Date</th>\n",
       "      <td>2005-03-22</td>\n",
       "    </tr>\n",
       "    <tr>\n",
       "      <th>Creation revision id</th>\n",
       "      <td>12053908</td>\n",
       "    </tr>\n",
       "    <tr>\n",
       "      <th>Last modified</th>\n",
       "      <td>2019-08-15 02:15</td>\n",
       "    </tr>\n",
       "    <tr>\n",
       "      <th>Last revision id</th>\n",
       "      <td>910874720</td>\n",
       "    </tr>\n",
       "    <tr>\n",
       "      <th>Content Assessment (3)</th>\n",
       "      <td>C</td>\n",
       "    </tr>\n",
       "  </tbody>\n",
       "</table>\n",
       "</div>"
      ],
      "text/plain": [
       "                                           value\n",
       "Project name                    en.wikipedia.org\n",
       "Page name                 The Camp of the Saints\n",
       "Watchers (2)                                  86\n",
       "Page Views (per 30 days)                   23941\n",
       "Revisions                                    504\n",
       "Editors                                      237\n",
       "minor_edits                                   99\n",
       "Creator of the page                 Morning star\n",
       "Creation Date                         2005-03-22\n",
       "Creation revision id                    12053908\n",
       "Last modified                   2019-08-15 02:15\n",
       "Last revision id                       910874720\n",
       "Content Assessment (3)                         C"
      ]
     },
     "metadata": {},
     "output_type": "display_data"
    },
    {
     "data": {
      "text/markdown": [
       "<sup>**(1)** *A community-built service for article statistics at xtools.wmflabs.org* **(2)** *Users that added this page to their watchlist.* **(3)** *See [Wikipedia Content Assessment](https://en.wikipedia.org/wiki/Wikipedia:Content_assessment)*</sup>"
      ],
      "text/plain": [
       "<IPython.core.display.Markdown object>"
      ]
     },
     "metadata": {},
     "output_type": "display_data"
    }
   ],
   "source": [
    "from IPython.display import display, Markdown as md\n",
    "from external.xtools import XtoolsAPI, XtoolsDV\n",
    "\n",
    "xtools_api = XtoolsAPI(project = 'en.wikipedia.org')\n",
    "xtools_dv = XtoolsDV(xtools_api)\n",
    "page_info = xtools_dv.get_page_info(the_page['title'])\n",
    "page_info['assessment'] = page_info['assessment']['value']\n",
    "\n",
    "page_info = page_info.to_frame('value').rename(index={\n",
    "    'project': 'Project name',\n",
    "    'page': 'Page name',\n",
    "    'watchers': 'Watchers (2)',    'pageviews': f\"Page Views (per {page_info['pageviews_offset']} days)\",\n",
    "    'revisions': 'Revisions',\n",
    "    'editors': 'Editors',\n",
    "    'author': 'Creator of the page',\n",
    "    'created_at': 'Creation Date',\n",
    "    'created_rev_id': 'Creation revision id',\n",
    "    'modified_at': 'Last modified',\n",
    "    'last_edit_id': 'Last revision id',\n",
    "    'assessment': 'Content Assessment (3)',\n",
    "}).drop(index = ['pageviews_offset', 'author_editcount', 'secs_since_last_edit','elapsed_time'])\n",
    "\n",
    "\n",
    "display(page_info)\n",
    "display(md(\"<sup>**(1)** *A community-built service for article statistics at xtools.wmflabs.org* **(2)** *Users that added this page to their watchlist.* **(3)** *See [Wikipedia Content Assessment](https://en.wikipedia.org/wiki/Wikipedia:Content_assessment)*</sup>\"))\n"
   ]
  },
  {
   "cell_type": "code",
   "execution_count": 7,
   "metadata": {},
   "outputs": [
    {
     "data": {
      "text/markdown": [
       "---"
      ],
      "text/plain": [
       "<IPython.core.display.Markdown object>"
      ]
     },
     "metadata": {},
     "output_type": "display_data"
    },
    {
     "data": {
      "text/markdown": [
       "# C. Page Views"
      ],
      "text/plain": [
       "<IPython.core.display.Markdown object>"
      ]
     },
     "metadata": {},
     "output_type": "display_data"
    },
    {
     "data": {
      "text/markdown": [
       "Provided through the Wikimedia API"
      ],
      "text/plain": [
       "<IPython.core.display.Markdown object>"
      ]
     },
     "metadata": {},
     "output_type": "display_data"
    },
    {
     "data": {
      "text/markdown": [
       "***Page: The Camp of the Saints***"
      ],
      "text/plain": [
       "<IPython.core.display.Markdown object>"
      ]
     },
     "metadata": {},
     "output_type": "display_data"
    }
   ],
   "source": [
    "from IPython.display import display, Markdown as md\n",
    "display(md(\"---\"))\n",
    "display(md(f\"# C. Page Views\"))\n",
    "display(md(f\"Provided through the Wikimedia API\"))\n",
    "display(md(f\"***Page: {the_page['title']}***\"))"
   ]
  },
  {
   "cell_type": "code",
   "execution_count": 8,
   "metadata": {},
   "outputs": [
    {
     "data": {
      "application/vnd.jupyter.widget-view+json": {
       "model_id": "0031a25c6a734144872339c9a6ca8db3",
       "version_major": 2,
       "version_minor": 0
      },
      "text/plain": [
       "interactive(children=(Dropdown(description='begin', options=(Timestamp('2015-07-01 00:00:00'), Timestamp('2015…"
      ]
     },
     "metadata": {},
     "output_type": "display_data"
    },
    {
     "data": {
      "text/html": [
       "<div>\n",
       "<style scoped>\n",
       "    .dataframe tbody tr th:only-of-type {\n",
       "        vertical-align: middle;\n",
       "    }\n",
       "\n",
       "    .dataframe tbody tr th {\n",
       "        vertical-align: top;\n",
       "    }\n",
       "\n",
       "    .dataframe thead th {\n",
       "        text-align: right;\n",
       "    }\n",
       "</style>\n",
       "<table border=\"1\" class=\"dataframe\">\n",
       "  <thead>\n",
       "    <tr style=\"text-align: right;\">\n",
       "      <th></th>\n",
       "      <th>Value</th>\n",
       "    </tr>\n",
       "  </thead>\n",
       "  <tbody>\n",
       "    <tr>\n",
       "      <th>Total views</th>\n",
       "      <td>547154</td>\n",
       "    </tr>\n",
       "    <tr>\n",
       "      <th>Max views period</th>\n",
       "      <td>76388</td>\n",
       "    </tr>\n",
       "    <tr>\n",
       "      <th>Min views period</th>\n",
       "      <td>4082</td>\n",
       "    </tr>\n",
       "    <tr>\n",
       "      <th>Average views</th>\n",
       "      <td>4082</td>\n",
       "    </tr>\n",
       "  </tbody>\n",
       "</table>\n",
       "</div>"
      ],
      "text/plain": [
       "                   Value\n",
       "Total views       547154\n",
       "Max views period   76388\n",
       "Min views period    4082\n",
       "Average views       4082"
      ]
     },
     "execution_count": 8,
     "metadata": {},
     "output_type": "execute_result"
    }
   ],
   "source": [
    "# Query request\n",
    "from external.wikimedia import WikiMediaDV, WikiMediaAPI\n",
    "wikimedia_api = WikiMediaAPI(project='en.wikipedia')\n",
    "wikimedia_dv = WikiMediaDV(wikimedia_api)\n",
    "views = wikimedia_dv.get_pageviews(the_page['title'], 'daily')\n",
    "\n",
    "# Visualization\n",
    "from visualization.views_listener import ViewsListener\n",
    "from ipywidgets import interact\n",
    "from ipywidgets.widgets import Dropdown\n",
    "\n",
    "listener = ViewsListener(views)\n",
    "interact(listener.listen, \n",
    "         begin=Dropdown(options=views.timestamp),\n",
    "         end=Dropdown(options=views.timestamp.sort_values(ascending=False)),\n",
    "         granularity=Dropdown(options=['Yearly', 'Monthly', 'Weekly', 'Daily'], value='Monthly'))\n",
    "\n",
    "# The df_plotted keeps a reference to the plotted data above\n",
    "listener.df_plotted['views'].agg({\n",
    "    'Total views': sum,\n",
    "    'Max views period': max,\n",
    "    'Min views period': min,\n",
    "    'Average views': min,}).to_frame('Value')"
   ]
  },
  {
   "cell_type": "markdown",
   "metadata": {},
   "source": [
    "\n",
    "After we have no seen some general statistics of the article and the views it attracted, we will go on to take a look at what specific kinds of changes by which editors it was subject to over time. \n",
    "\n",
    "Click below to go to the next notebook. You can later come back to this notebook and simply enter another article name to start the process over with that new article. "
   ]
  },
  {
   "cell_type": "code",
   "execution_count": 9,
   "metadata": {},
   "outputs": [
    {
     "data": {
      "text/html": [
       "<a href=\"2. Using WikiWho to analyze a page.ipynb\" target=\"_blank\">Go to next workbook</a>"
      ],
      "text/plain": [
       "<IPython.core.display.HTML object>"
      ]
     },
     "metadata": {},
     "output_type": "display_data"
    }
   ],
   "source": [
    "from utils.notebooks import get_next_notebook\n",
    "from IPython.display import HTML\n",
    "display(HTML(f'<a href=\"{get_next_notebook()}\" target=\"_blank\">Go to next workbook</a>'))"
   ]
  }
 ],
 "metadata": {
  "kernel_info": {
   "name": "python3"
  },
  "kernelspec": {
   "display_name": "Python 3",
   "language": "python",
   "name": "python3"
  },
  "language_info": {
   "codemirror_mode": {
    "name": "ipython",
    "version": 3
   },
   "file_extension": ".py",
   "mimetype": "text/x-python",
   "name": "python",
   "nbconvert_exporter": "python",
   "pygments_lexer": "ipython3",
   "version": "3.7.2"
  },
  "nteract": {
   "version": "0.14.4"
  }
 },
 "nbformat": 4,
 "nbformat_minor": 2
}
