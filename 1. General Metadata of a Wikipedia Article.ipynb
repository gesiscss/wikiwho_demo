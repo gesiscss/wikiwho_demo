{
 "cells": [
  {
   "cell_type": "code",
   "execution_count": null,
   "metadata": {},
   "outputs": [],
   "source": [
    "%load_ext autoreload\n",
    "%autoreload 2"
   ]
  },
  {
   "cell_type": "markdown",
   "metadata": {},
   "source": [
    "# 1. General Metadata of a Wikipedia Article\n",
    "\n",
    "Let's say we are interested in the Wikipedia historical evolution of one article, the novel \"The Camp of the Saints\". We can get some data from Wikipedia itself, and some third party sources:"
   ]
  },
  {
   "cell_type": "code",
   "execution_count": null,
   "metadata": {},
   "outputs": [],
   "source": [
    "page_name = 'The_Camp_of_the_Saints'"
   ]
  },
  {
   "cell_type": "markdown",
   "metadata": {},
   "source": [
    "## 1.1 Basic Info from Wikipedia"
   ]
  },
  {
   "cell_type": "code",
   "execution_count": null,
   "metadata": {},
   "outputs": [],
   "source": [
    "from external.wikipedia import WikipediaDV, WikipediaAPI\n",
    "wikipedia_dv = WikipediaDV(WikipediaAPI(domain='en.wikipedia.org'))\n",
    "page = wikipedia_dv.get_page(page_name)\n",
    "page.to_frame('value')"
   ]
  },
  {
   "cell_type": "markdown",
   "metadata": {},
   "source": [
    "## 1.2 General Stats from Xtools"
   ]
  },
  {
   "cell_type": "code",
   "execution_count": null,
   "metadata": {},
   "outputs": [],
   "source": [
    "from external.xtools import XtoolsAPI, XtoolsDV\n",
    "xtools_api = XtoolsAPI(project = 'en.wikipedia.org')\n",
    "xtools_dv = XtoolsDV(xtools_api)\n",
    "page_info = xtools_dv.get_page_info(page_name)\n",
    "page_info.to_frame('value')"
   ]
  },
  {
   "cell_type": "markdown",
   "metadata": {},
   "source": [
    "## 1.3 Page Views from Wikimedia"
   ]
  },
  {
   "cell_type": "code",
   "execution_count": null,
   "metadata": {},
   "outputs": [],
   "source": [
    "# Query request\n",
    "from external.wikimedia import WikiMediaDV, WikiMediaAPI\n",
    "wikimedia_api = WikiMediaAPI(project='en.wikipedia')\n",
    "wikimedia_dv = WikiMediaDV(wikimedia_api)\n",
    "views = wikimedia_dv.get_pageviews(page_name, 'daily')\n",
    "\n",
    "# Visualization\n",
    "from visualization.listeners import DFListener\n",
    "from ipywidgets import interact\n",
    "listener = DFListener(views)\n",
    "interact(listener.views_per_period, \n",
    "         begin=views.timestamp,\n",
    "         end=views.timestamp.sort_values(ascending=False),\n",
    "         granularity=['Yearly', 'Monthly', 'Weekly', 'Daily'])\n",
    "\n",
    "# The df_plotted keeps a reference to the plotted data above\n",
    "listener.df_plotted['views'].agg({\n",
    "    'Total views': sum,\n",
    "    'Max views period': max,\n",
    "    'Min views period': min,\n",
    "    'Average views': min,}).to_frame('Value')"
   ]
  },
  {
   "cell_type": "markdown",
   "metadata": {},
   "source": [
    "## 1.4 Editions per page with Wikiwho"
   ]
  },
  {
   "cell_type": "code",
   "execution_count": null,
   "metadata": {},
   "outputs": [],
   "source": [
    "from wikiwho_wrapper import WikiWhoAPI, DataView as WikiWhoDV\n",
    "import pandas as pd\n",
    "api = WikiWhoAPI(lng='en')\n",
    "wikiwho_dv = WikiWhoDV(api)\n",
    "df = wikiwho_dv.editor_content(page.page_id)\n",
    "df['year_month'] = pd.to_datetime(df['year_month'])\n",
    "\n",
    "# Group the data by year month and page (drop the editor information)\n",
    "df.drop('editor_id', axis=1).groupby(['year_month','page_id']).sum()\n",
    "\n",
    "# add columns with the total actions\n",
    "df = df.join(pd.DataFrame(\n",
    "    df.loc[:,'adds':'adds_stopword_count'].values +\\\n",
    "    df.loc[:,'dels':'dels_stopword_count'].values +\\\n",
    "    df.loc[:,'reins':'reins_stopword_count'].values, \n",
    "    index=df.index, \n",
    "    columns=['actions', \n",
    "             'actions_surv_48h', \n",
    "             'actions_persistent', \n",
    "             'actions_stopword_count']\n",
    "))\n",
    "\n",
    "# Visualization\n",
    "from visualization.editions_listener import DFListener\n",
    "from ipywidgets import interact\n",
    "listener = DFListener(df)\n",
    "# interact(listener.editions_per_month, \n",
    "#          begin=df.year_month,\n",
    "#          end=df.year_month.sort_values(ascending=False),\n",
    "#          actions=['All Actions', 'Additions', 'Reinsertions', 'Deletions'])\n",
    "actions = df.loc[:,'actions':'actions_stopword_count'].columns.append(\n",
    "    df.loc[:,'adds':'reins_stopword_count'].columns)\n",
    "interact(listener.editions_per_month, \n",
    "         begin=df.year_month,\n",
    "         end=df.year_month.sort_values(ascending=False),\n",
    "         granularity=['Yearly', 'Monthly'],\n",
    "         first_action=actions,\n",
    "         second_action=actions)\n"
   ]
  },
  {
   "cell_type": "code",
   "execution_count": null,
   "metadata": {},
   "outputs": [],
   "source": [
    "df.head()"
   ]
  },
  {
   "cell_type": "code",
   "execution_count": null,
   "metadata": {},
   "outputs": [],
   "source": [
    "from wikiwho_wrapper import WikiWhoAPI, DataView as WikiWhoDV\n",
    "api = WikiWhoAPI(lng='en')\n",
    "wikiwho_dv = WikiWhoDV(api)\n",
    "monthly_editions = wikiwho_dv.editor_content(page.page_id)\n",
    "df['year_month'] = pd.to_datetime(df['year_month'])\n",
    "\n",
    "# add columns with the total actions\n",
    "monthly_editions = monthly_editions.join(pd.DataFrame(\n",
    "    df.loc[:,'adds':'adds_stopword_count'].values +\\\n",
    "    df.loc[:,'dels':'dels_stopword_count'].values +\\\n",
    "    df.loc[:,'reins':'reins_stopword_count'].values, \n",
    "    index=monthly_editions.index, \n",
    "    columns=['actions', 'actions_surv_48h', 'actions_persistent', 'actions_stopword_count']\n",
    "))\n",
    "\n"
   ]
  },
  {
   "cell_type": "code",
   "execution_count": null,
   "metadata": {},
   "outputs": [],
   "source": [
    "%store page"
   ]
  },
  {
   "cell_type": "code",
   "execution_count": null,
   "metadata": {},
   "outputs": [],
   "source": [
    "# Actions_per_Edits = ActionsperEdits(article_id)\n",
    "# TimeSpend = TimeSpentEditing(article_id) \n",
    "# req, res = artsum.getArticleInfo(article_name, article_id)\n",
    "# table = [\n",
    "#         ['Watchers', req['watchers']],\n",
    "#         ['Pageviews', req['pageviews']],\n",
    "#         ['Pageviews Offset', req['pageviews_offset']],\n",
    "#         ['Revisions', req['revisions']],\n",
    "#         ['Editors', req['editors']],\n",
    "#         ['Author', req['author']],\n",
    "#         ['Created', req['created_at']],\n",
    "#         ['Creation Rev', req['created_rev_id']],\n",
    "#         ['Last modified', req['modified_at']],\n",
    "#         ['Last Rev ID', req['last_edit_id']],\n",
    "#         ['Total Views', totalViewsM.views.values.sum()],\n",
    "#         ['Actions per Edits Within 48 Hours', round(Actions_per_Edits.ActionsperEditsWithin48Hour[0], 2)],\n",
    "#         ['Actions per Edits After 48 Hours', round(Actions_per_Edits.ActionsperEditsAfter48Hour[0], 2)],\n",
    "#         ['Actions per Edits Exactly in 48 Hours', round(Actions_per_Edits.ActionsperEditsExactlyin48Hour[0], 2)],\n",
    "#         ['Sessions Within  48 Hours', TimeSpend.SessionsWithin48Hours.item()],\n",
    "#         ['Sessions After 48 Hours', TimeSpend.SessionsAfter48Hours.item()],\n",
    "#         ['Sessions Exactly in 48 Hours', TimeSpend.SessionsExactlyin48Hours.item()]\n",
    "#     ]\n",
    "\n",
    "# display(HTML(tabulate.tabulate(table, tablefmt='html')))"
   ]
  }
 ],
 "metadata": {
  "kernelspec": {
   "display_name": "Python 3",
   "language": "python",
   "name": "python3"
  },
  "language_info": {
   "codemirror_mode": {
    "name": "ipython",
    "version": 3
   },
   "file_extension": ".py",
   "mimetype": "text/x-python",
   "name": "python",
   "nbconvert_exporter": "python",
   "pygments_lexer": "ipython3",
   "version": "3.6.6"
  }
 },
 "nbformat": 4,
 "nbformat_minor": 2
}
